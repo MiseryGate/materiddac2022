{
 "cells": [
  {
   "cell_type": "markdown",
   "metadata": {},
   "source": [
    "# Python Pandas"
   ]
  },
  {
   "cell_type": "markdown",
   "metadata": {},
   "source": [
    "Pada kelas kali ini kita akan mempelajari bagaimana menggunakan pandas untuk kegiatan data analisis. Kita dapat beranggapan bahwa pandas adalah excel-nya python dengan fitur yang lebih banyak dan performa yang lebih cepat. Kita akan mempelajari tentang:\n",
    "\n",
    "* Series\n",
    "* DataFrames\n",
    "* Missing Data\n",
    "* Operations\n",
    "* Data Input and Output\n",
    "* GroupBy\n",
    "* Merging,Joining,and Concatenating"
   ]
  },
  {
   "cell_type": "markdown",
   "metadata": {},
   "source": [
    "## Install and import pandas"
   ]
  },
  {
   "cell_type": "code",
   "execution_count": null,
   "metadata": {},
   "outputs": [],
   "source": [
    "conda install pandas #jika menggunakan Anaconda distribution\n",
    "\n",
    "pip install pandas #jika python diinstal dengan metode yang lain"
   ]
  },
  {
   "cell_type": "code",
   "execution_count": null,
   "metadata": {},
   "outputs": [],
   "source": [
    "import pandas as pd\n",
    "import numpy as np"
   ]
  },
  {
   "cell_type": "markdown",
   "metadata": {},
   "source": [
    "## Series"
   ]
  },
  {
   "cell_type": "markdown",
   "metadata": {},
   "source": [
    "Series mirip dengan NumPy array, karena memang Series dibangun diatas NumPy array object. Apa yang membedakan antara NumPy array dan Series adalah Series dapat mempunyai axis labels yang berarti Series dapat di-index dengan sebuah label. Series juga tidak hanya dapat menampung data, tetapi juga dapat menampung berbagai Python Object. "
   ]
  },
  {
   "cell_type": "markdown",
   "metadata": {},
   "source": [
    "### 1. membuat Series\n",
    "\n",
    "Kita dapat meng-konversi (convert) sebuah list, numpy array, atau dictionary  menjadi sebuah Series."
   ]
  },
  {
   "cell_type": "code",
   "execution_count": null,
   "metadata": {},
   "outputs": [],
   "source": [
    "labels = ['A','B','C']\n",
    "my_list = [10,50,100]\n",
    "arr = np.array([10,50,100])\n",
    "dic = {'a':10,'b':50,'c':100}"
   ]
  },
  {
   "cell_type": "markdown",
   "metadata": {},
   "source": [
    "> **List**"
   ]
  },
  {
   "cell_type": "code",
   "execution_count": null,
   "metadata": {},
   "outputs": [],
   "source": [
    "pd.Series(data=my_list)"
   ]
  },
  {
   "cell_type": "code",
   "execution_count": null,
   "metadata": {},
   "outputs": [],
   "source": [
    "pd.Series(data=my_list, index=labels)"
   ]
  },
  {
   "cell_type": "code",
   "execution_count": null,
   "metadata": {},
   "outputs": [],
   "source": [
    "pd.Series(my_list,labels)"
   ]
  },
  {
   "cell_type": "markdown",
   "metadata": {},
   "source": [
    "> **NumPy Arrays**"
   ]
  },
  {
   "cell_type": "code",
   "execution_count": null,
   "metadata": {},
   "outputs": [],
   "source": [
    "pd.Series(arr)"
   ]
  },
  {
   "cell_type": "code",
   "execution_count": null,
   "metadata": {},
   "outputs": [],
   "source": [
    "pd.Series(arr,labels)"
   ]
  },
  {
   "cell_type": "markdown",
   "metadata": {},
   "source": [
    "> **Dictionary**"
   ]
  },
  {
   "cell_type": "code",
   "execution_count": null,
   "metadata": {},
   "outputs": [],
   "source": [
    "pd.Series(dic)"
   ]
  },
  {
   "cell_type": "markdown",
   "metadata": {},
   "source": [
    "### 2. data di dalam sebuah Series\n",
    "\n",
    "Sebuah Pandas Series dapat menampung berbagai variasi tipe objek"
   ]
  },
  {
   "cell_type": "code",
   "execution_count": null,
   "metadata": {},
   "outputs": [],
   "source": [
    "pd.Series(data=labels)"
   ]
  },
  {
   "cell_type": "code",
   "execution_count": null,
   "metadata": {},
   "outputs": [],
   "source": [
    "# Bahkan fungsi juga dapat ditampung dalam Series\n",
    "pd.Series([sum, print, len])"
   ]
  },
  {
   "cell_type": "markdown",
   "metadata": {},
   "source": [
    "### 3. menggunakan index  \n",
    "\n",
    "Kunci dari menggunakan Series adalah dengan memahami index-nya. Pandas menggunakan 'nama' atau 'nomor' index ini untuk membuat pencarian informasi dalam dataset menjadi cepat dilakukan"
   ]
  },
  {
   "cell_type": "code",
   "execution_count": null,
   "metadata": {},
   "outputs": [],
   "source": [
    "ser1 = pd.Series([1,2,3,4,5], index = ['BudiUtomo', 'SarekatIslam', 'Ind.Partij', 'Putera', 'Peta'])"
   ]
  },
  {
   "cell_type": "code",
   "execution_count": null,
   "metadata": {},
   "outputs": [],
   "source": [
    "ser1"
   ]
  },
  {
   "cell_type": "code",
   "execution_count": null,
   "metadata": {},
   "outputs": [],
   "source": [
    "ser2 = pd.Series([2,4,6,7,8], index = ['BudiUtomo', 'SarekatIslam', 'Ind.Partij', 'Putera', 'Peta'])"
   ]
  },
  {
   "cell_type": "code",
   "execution_count": null,
   "metadata": {},
   "outputs": [],
   "source": [
    "ser2"
   ]
  },
  {
   "cell_type": "code",
   "execution_count": null,
   "metadata": {},
   "outputs": [],
   "source": [
    "ser1['BudiUtomo']"
   ]
  },
  {
   "cell_type": "markdown",
   "metadata": {},
   "source": [
    "Operasi dalam Series didasarkan pada index"
   ]
  },
  {
   "cell_type": "code",
   "execution_count": null,
   "metadata": {
    "scrolled": true
   },
   "outputs": [],
   "source": [
    "ser1 + ser2"
   ]
  },
  {
   "cell_type": "markdown",
   "metadata": {},
   "source": [
    "## DataFrames"
   ]
  },
  {
   "cell_type": "code",
   "execution_count": null,
   "metadata": {},
   "outputs": [],
   "source": [
    "from numpy.random import randn\n",
    "np.random.seed(100)"
   ]
  },
  {
   "cell_type": "code",
   "execution_count": null,
   "metadata": {},
   "outputs": [],
   "source": [
    "df = pd.DataFrame(randn(5,4), index='A B C D E'.split(), columns='I II III IV'.split())"
   ]
  },
  {
   "cell_type": "code",
   "execution_count": null,
   "metadata": {},
   "outputs": [],
   "source": [
    "df"
   ]
  },
  {
   "cell_type": "markdown",
   "metadata": {},
   "source": [
    "### 1. Selection and Indexing\n",
    "\n",
    "Beberapa metode untuk mengambil/memilih data dari DataFrame"
   ]
  },
  {
   "cell_type": "code",
   "execution_count": null,
   "metadata": {},
   "outputs": [],
   "source": [
    "df['III']"
   ]
  },
  {
   "cell_type": "code",
   "execution_count": null,
   "metadata": {
    "scrolled": true
   },
   "outputs": [],
   "source": [
    "# menggunakan list nama kolom untuk mengakses lebih dari 1 kolom\n",
    "df[['II', 'III']]"
   ]
  },
  {
   "cell_type": "code",
   "execution_count": null,
   "metadata": {},
   "outputs": [],
   "source": [
    "# SQL syntax (tidak direkomendasikan karena akan rancu dengan atribut/method dalam DataFrame)\n",
    "# df.(tab)\n",
    "df.II"
   ]
  },
  {
   "cell_type": "markdown",
   "metadata": {},
   "source": [
    "Kolom dalam DataFrame adalah Series"
   ]
  },
  {
   "cell_type": "code",
   "execution_count": null,
   "metadata": {},
   "outputs": [],
   "source": [
    "type(df['I'])"
   ]
  },
  {
   "cell_type": "markdown",
   "metadata": {},
   "source": [
    "> **Membuat kolom baru**"
   ]
  },
  {
   "cell_type": "code",
   "execution_count": null,
   "metadata": {},
   "outputs": [],
   "source": [
    "df['new'] = df['II'] + df['IV']"
   ]
  },
  {
   "cell_type": "code",
   "execution_count": null,
   "metadata": {},
   "outputs": [],
   "source": [
    "df"
   ]
  },
  {
   "cell_type": "markdown",
   "metadata": {},
   "source": [
    "> **Menghapus kolom**"
   ]
  },
  {
   "cell_type": "code",
   "execution_count": null,
   "metadata": {},
   "outputs": [],
   "source": [
    "df"
   ]
  },
  {
   "cell_type": "code",
   "execution_count": null,
   "metadata": {
    "scrolled": true
   },
   "outputs": [],
   "source": [
    "# default axis=0 (index)\n",
    "df.drop('new', axis=1)"
   ]
  },
  {
   "cell_type": "code",
   "execution_count": null,
   "metadata": {},
   "outputs": [],
   "source": [
    "df.drop('D')"
   ]
  },
  {
   "cell_type": "code",
   "execution_count": null,
   "metadata": {},
   "outputs": [],
   "source": [
    "# default inplace=False Pandas membantu untuk mencegah kehilangan data accidentally\n",
    "df"
   ]
  },
  {
   "cell_type": "code",
   "execution_count": null,
   "metadata": {},
   "outputs": [],
   "source": [
    "df.drop('new', axis=1, inplace=True)"
   ]
  },
  {
   "cell_type": "code",
   "execution_count": null,
   "metadata": {},
   "outputs": [],
   "source": [
    "df"
   ]
  },
  {
   "cell_type": "code",
   "execution_count": null,
   "metadata": {},
   "outputs": [],
   "source": [
    "# mengapa index (row) = 0, sedangkan kolom (axis) = 1? \n",
    "# karena Pandas dibangun di atas NumPy\n",
    "\n",
    "df.shape"
   ]
  },
  {
   "cell_type": "markdown",
   "metadata": {},
   "source": [
    "> Memilih Baris (Selecting Rows)"
   ]
  },
  {
   "cell_type": "code",
   "execution_count": null,
   "metadata": {},
   "outputs": [],
   "source": [
    "# memilih berdasar label (nama index)\n",
    "df.loc['A']"
   ]
  },
  {
   "cell_type": "code",
   "execution_count": null,
   "metadata": {},
   "outputs": [],
   "source": [
    "# memilih berdasar lokasi\n",
    "df.iloc[0]"
   ]
  },
  {
   "cell_type": "markdown",
   "metadata": {},
   "source": [
    "> Memilih 'cell' (subset of rows and columns)"
   ]
  },
  {
   "cell_type": "code",
   "execution_count": null,
   "metadata": {},
   "outputs": [],
   "source": [
    "df.loc['B', 'III']"
   ]
  },
  {
   "cell_type": "code",
   "execution_count": null,
   "metadata": {},
   "outputs": [],
   "source": [
    "df.loc[['A', 'E'],['II','III']]"
   ]
  },
  {
   "cell_type": "markdown",
   "metadata": {},
   "source": [
    "### 2. Conditional Selecting"
   ]
  },
  {
   "cell_type": "code",
   "execution_count": null,
   "metadata": {},
   "outputs": [],
   "source": [
    "df"
   ]
  },
  {
   "cell_type": "code",
   "execution_count": null,
   "metadata": {},
   "outputs": [],
   "source": [
    "df>0"
   ]
  },
  {
   "cell_type": "code",
   "execution_count": null,
   "metadata": {},
   "outputs": [],
   "source": [
    "df[df>0]"
   ]
  },
  {
   "cell_type": "code",
   "execution_count": null,
   "metadata": {},
   "outputs": [],
   "source": [
    "df[df['I']>0]"
   ]
  },
  {
   "cell_type": "code",
   "execution_count": null,
   "metadata": {},
   "outputs": [],
   "source": [
    "df[df['I']>0]['III']"
   ]
  },
  {
   "cell_type": "code",
   "execution_count": null,
   "metadata": {},
   "outputs": [],
   "source": [
    "df[df['I']>0][['III','II']]"
   ]
  },
  {
   "cell_type": "markdown",
   "metadata": {},
   "source": [
    "> Two conditions: gunakan | (or) dan & (and)"
   ]
  },
  {
   "cell_type": "code",
   "execution_count": null,
   "metadata": {},
   "outputs": [],
   "source": [
    "df[(df['I']>0)&(df['II']<0.5)]"
   ]
  },
  {
   "cell_type": "markdown",
   "metadata": {},
   "source": [
    "### 3. Index \n"
   ]
  },
  {
   "cell_type": "code",
   "execution_count": null,
   "metadata": {},
   "outputs": [],
   "source": [
    "df"
   ]
  },
  {
   "cell_type": "code",
   "execution_count": null,
   "metadata": {},
   "outputs": [],
   "source": [
    "# reset index ke default\n",
    "df.reset_index()"
   ]
  },
  {
   "cell_type": "code",
   "execution_count": null,
   "metadata": {},
   "outputs": [],
   "source": [
    "newind = 'Jkt Bog Dep Tag Bek'.split()\n",
    "df['kota'] = newind"
   ]
  },
  {
   "cell_type": "code",
   "execution_count": null,
   "metadata": {},
   "outputs": [],
   "source": [
    "df"
   ]
  },
  {
   "cell_type": "code",
   "execution_count": null,
   "metadata": {},
   "outputs": [],
   "source": [
    "df.set_index('kota')"
   ]
  },
  {
   "cell_type": "markdown",
   "metadata": {},
   "source": [
    "### 4. Multi-Index dan Index Hierarchy"
   ]
  },
  {
   "cell_type": "code",
   "execution_count": null,
   "metadata": {},
   "outputs": [],
   "source": [
    "# Index Levels\n",
    "outside = ['G1','G1','G1','G2','G2','G2']\n",
    "inside = [1,2,3,1,2,3]\n",
    "hier_index = list(zip(outside,inside))\n",
    "hier_index = pd.MultiIndex.from_tuples(hier_index)"
   ]
  },
  {
   "cell_type": "code",
   "execution_count": null,
   "metadata": {},
   "outputs": [],
   "source": [
    "hier_index"
   ]
  },
  {
   "cell_type": "code",
   "execution_count": null,
   "metadata": {},
   "outputs": [],
   "source": [
    "df = pd.DataFrame(np.random.randn(6,2), index=hier_index, columns=['A','B'])"
   ]
  },
  {
   "cell_type": "code",
   "execution_count": null,
   "metadata": {},
   "outputs": [],
   "source": [
    "df"
   ]
  },
  {
   "cell_type": "code",
   "execution_count": null,
   "metadata": {},
   "outputs": [],
   "source": [
    "df.loc['G1']"
   ]
  },
  {
   "cell_type": "code",
   "execution_count": null,
   "metadata": {},
   "outputs": [],
   "source": [
    "df.loc['G1'].loc[2]"
   ]
  },
  {
   "cell_type": "code",
   "execution_count": null,
   "metadata": {},
   "outputs": [],
   "source": [
    "df.index.names = ['Group', 'Num']"
   ]
  },
  {
   "cell_type": "code",
   "execution_count": null,
   "metadata": {},
   "outputs": [],
   "source": [
    "df"
   ]
  },
  {
   "cell_type": "code",
   "execution_count": null,
   "metadata": {},
   "outputs": [],
   "source": [
    "df.xs('G1')"
   ]
  },
  {
   "cell_type": "code",
   "execution_count": null,
   "metadata": {},
   "outputs": [],
   "source": [
    "df.xs(['G1',2])"
   ]
  },
  {
   "cell_type": "code",
   "execution_count": null,
   "metadata": {},
   "outputs": [],
   "source": [
    "df.xs(2,level='Num')"
   ]
  },
  {
   "cell_type": "markdown",
   "metadata": {},
   "source": [
    "## Missing Data"
   ]
  },
  {
   "cell_type": "code",
   "execution_count": null,
   "metadata": {},
   "outputs": [],
   "source": [
    "df = pd.DataFrame({'A':[1,2,np.nan],\n",
    "                  'B':[5,np.nan,np.nan],\n",
    "                  'C':[1,2,3]})"
   ]
  },
  {
   "cell_type": "code",
   "execution_count": null,
   "metadata": {},
   "outputs": [],
   "source": [
    "df"
   ]
  },
  {
   "cell_type": "code",
   "execution_count": null,
   "metadata": {},
   "outputs": [],
   "source": [
    "df.dropna()"
   ]
  },
  {
   "cell_type": "code",
   "execution_count": null,
   "metadata": {},
   "outputs": [],
   "source": [
    "df.dropna(axis=1)"
   ]
  },
  {
   "cell_type": "code",
   "execution_count": null,
   "metadata": {},
   "outputs": [],
   "source": [
    "df.dropna(thresh=2)"
   ]
  },
  {
   "cell_type": "code",
   "execution_count": null,
   "metadata": {},
   "outputs": [],
   "source": [
    "df.fillna(value='ISI DATA')"
   ]
  },
  {
   "cell_type": "code",
   "execution_count": null,
   "metadata": {},
   "outputs": [],
   "source": [
    "df['A'].fillna(value=df['A'].mean())"
   ]
  },
  {
   "cell_type": "markdown",
   "metadata": {},
   "source": [
    "## Operations"
   ]
  },
  {
   "cell_type": "code",
   "execution_count": null,
   "metadata": {},
   "outputs": [],
   "source": [
    "df = pd.DataFrame({'col1':[1,2,3,4],'col2':[444,555,666,444],'col3':['abc','def','ghi','xyz']})\n",
    "df"
   ]
  },
  {
   "cell_type": "markdown",
   "metadata": {},
   "source": [
    "### 1. Unique Values"
   ]
  },
  {
   "cell_type": "code",
   "execution_count": null,
   "metadata": {},
   "outputs": [],
   "source": [
    "df['col2'].unique()"
   ]
  },
  {
   "cell_type": "code",
   "execution_count": null,
   "metadata": {},
   "outputs": [],
   "source": [
    "df['col2'].nunique()"
   ]
  },
  {
   "cell_type": "code",
   "execution_count": null,
   "metadata": {},
   "outputs": [],
   "source": [
    "df['col2'].value_counts()"
   ]
  },
  {
   "cell_type": "markdown",
   "metadata": {},
   "source": [
    "### 2. Selecting Data"
   ]
  },
  {
   "cell_type": "code",
   "execution_count": null,
   "metadata": {},
   "outputs": [],
   "source": [
    "# memilih dari DataFrame menggunakan kriteria dari multiple kolom\n",
    "newdf = df[(df['col1']>2) & (df['col2']==444)]"
   ]
  },
  {
   "cell_type": "code",
   "execution_count": null,
   "metadata": {},
   "outputs": [],
   "source": [
    "newdf"
   ]
  },
  {
   "cell_type": "markdown",
   "metadata": {},
   "source": [
    "### 3. Applying Functions"
   ]
  },
  {
   "cell_type": "code",
   "execution_count": null,
   "metadata": {},
   "outputs": [],
   "source": [
    "def times2(x):\n",
    "    return x*2"
   ]
  },
  {
   "cell_type": "code",
   "execution_count": null,
   "metadata": {},
   "outputs": [],
   "source": [
    "df['col1'].apply(times2)"
   ]
  },
  {
   "cell_type": "code",
   "execution_count": null,
   "metadata": {},
   "outputs": [],
   "source": [
    "df['col3'].apply(len)"
   ]
  },
  {
   "cell_type": "code",
   "execution_count": null,
   "metadata": {},
   "outputs": [],
   "source": [
    "df['col1'].sum()"
   ]
  },
  {
   "cell_type": "code",
   "execution_count": null,
   "metadata": {},
   "outputs": [],
   "source": [
    "# menghapus kolom secara permanen\n",
    "del df['col1']"
   ]
  },
  {
   "cell_type": "code",
   "execution_count": null,
   "metadata": {},
   "outputs": [],
   "source": [
    "df"
   ]
  },
  {
   "cell_type": "code",
   "execution_count": null,
   "metadata": {},
   "outputs": [],
   "source": [
    "# mengetahui nama kolom\n",
    "df.columns"
   ]
  },
  {
   "cell_type": "code",
   "execution_count": null,
   "metadata": {},
   "outputs": [],
   "source": [
    "# mengetahui nama index\n",
    "df.index"
   ]
  },
  {
   "cell_type": "code",
   "execution_count": null,
   "metadata": {},
   "outputs": [],
   "source": [
    "# sorting and ordering a DataFrame\n",
    "df"
   ]
  },
  {
   "cell_type": "code",
   "execution_count": null,
   "metadata": {},
   "outputs": [],
   "source": [
    "df.sort_values(by='col2')"
   ]
  },
  {
   "cell_type": "markdown",
   "metadata": {},
   "source": [
    "## Data Input dan Output"
   ]
  },
  {
   "cell_type": "markdown",
   "metadata": {},
   "source": [
    "Working Directory adalah lokasi dimana kita mengerjakan project, sehingga perlu untuk mengetahuinya. Caranya:\n",
    "\n",
    "    import os\n",
    "    os.getcwd()\n",
    "\n",
    "Mengubah working directory, misalkan:\n",
    "\n",
    "    os.chdir('../MoF_DAC/') \n",
    "    \n",
    "Membaca data:\n",
    "    \n",
    "    pd.read_csv(\"../\") ... upper one step from home directory\n",
    "    pd.read_csv(\"~/\") ... root"
   ]
  },
  {
   "cell_type": "markdown",
   "metadata": {},
   "source": [
    "### 1. CSV"
   ]
  },
  {
   "cell_type": "code",
   "execution_count": null,
   "metadata": {},
   "outputs": [],
   "source": [
    "# csv input\n",
    "df = pd.read_csv('contoh') #default separator comma (,)\n",
    "df"
   ]
  },
  {
   "cell_type": "code",
   "execution_count": null,
   "metadata": {},
   "outputs": [],
   "source": [
    "#csv output\n",
    "df.to_csv('contoh', index=False)"
   ]
  },
  {
   "cell_type": "markdown",
   "metadata": {},
   "source": [
    "### 2. Excel\n",
    "\n",
    "Pandas dapat read and write excel files, tapi hanya mengimport data, tidak termasuk formula, gambar, atau macros"
   ]
  },
  {
   "cell_type": "code",
   "execution_count": null,
   "metadata": {},
   "outputs": [],
   "source": [
    "# excel input\n",
    "pd.read_excel('Contoh_Excel.xlsx',sheet_name='Sheet1')"
   ]
  },
  {
   "cell_type": "code",
   "execution_count": null,
   "metadata": {},
   "outputs": [],
   "source": [
    "# excel output\n",
    "df.to_excel('Contoh_Excel.xlsx',sheet_name='Sheet1',index=False)"
   ]
  },
  {
   "cell_type": "markdown",
   "metadata": {},
   "source": [
    "### 3. HTML"
   ]
  },
  {
   "cell_type": "markdown",
   "metadata": {},
   "source": [
    "Bisa dengan menginstall htmllib5,lxml, and BeautifulSoup4. Jalankan di terminal/command prompt\n",
    "\n",
    "    conda install lxml\n",
    "    conda install html5lib\n",
    "    conda install BeautifulSoup4\n",
    "\n",
    "Kemudian, **restart Jupyter Notebook**. \n",
    "\n",
    "Atau gunakan pip install jika tidak menggunakan Anaconda Distribution."
   ]
  },
  {
   "cell_type": "code",
   "execution_count": null,
   "metadata": {},
   "outputs": [],
   "source": [
    "df = pd.read_html('https://www.fdic.gov/resources/resolutions/bank-failures/failed-bank-list/')"
   ]
  },
  {
   "cell_type": "code",
   "execution_count": null,
   "metadata": {},
   "outputs": [],
   "source": [
    "df[0]"
   ]
  },
  {
   "cell_type": "markdown",
   "metadata": {},
   "source": [
    "## Groupby"
   ]
  },
  {
   "cell_type": "code",
   "execution_count": null,
   "metadata": {},
   "outputs": [],
   "source": [
    "# Membuat DataFrame\n",
    "data = {'Company':['Google','Google','Microsoft','Microsoft','Facebook','Facebook'],\n",
    "       'Person':['Sam','Charlie','Amy','Vanessa','Carl','Sarah'],\n",
    "       'Sales':[200,120,340,124,243,350]}"
   ]
  },
  {
   "cell_type": "code",
   "execution_count": null,
   "metadata": {},
   "outputs": [],
   "source": [
    "df = pd.DataFrame(data)"
   ]
  },
  {
   "cell_type": "code",
   "execution_count": null,
   "metadata": {},
   "outputs": [],
   "source": [
    "df"
   ]
  },
  {
   "cell_type": "markdown",
   "metadata": {},
   "source": [
    "Gunakan method .groupby() untuk mengelompokkan baris berdasarkan nama kolom. Sebagai contoh dikelompokkan berdasarkan Company."
   ]
  },
  {
   "cell_type": "code",
   "execution_count": null,
   "metadata": {},
   "outputs": [],
   "source": [
    "by_comp = df.groupby('Company')"
   ]
  },
  {
   "cell_type": "code",
   "execution_count": null,
   "metadata": {},
   "outputs": [],
   "source": [
    "# Kemudian gunakan method aggregate pada objek tersebut\n",
    "by_comp.mean()"
   ]
  },
  {
   "cell_type": "code",
   "execution_count": null,
   "metadata": {},
   "outputs": [],
   "source": [
    "# Contoh pemanfaatan method aggregate yang lain\n",
    "\n",
    "# by_comp.std()\n",
    "# by_comp.min()\n",
    "# by_comp.max()\n",
    "# by_comp.count()\n",
    "by_comp.describe()\n",
    "# by_comp.describe().transpose()\n",
    "# by_comp.describe().transpose()['Google']"
   ]
  },
  {
   "cell_type": "markdown",
   "metadata": {},
   "source": [
    "## Concatenating, Merging, and Joining"
   ]
  },
  {
   "cell_type": "markdown",
   "metadata": {},
   "source": [
    "### Concatenation\n",
    "\n",
    "Concatenation basically glues together DataFrames. Keep in mind that dimensions should match along the axis you are concatenating on. You can use **pd.concat** and pass in a list of DataFrames to concatenate together:"
   ]
  },
  {
   "cell_type": "code",
   "execution_count": null,
   "metadata": {},
   "outputs": [],
   "source": [
    "df1 = pd.DataFrame({'A': ['A0', 'A1', 'A2', 'A3'],\n",
    "                        'B': ['B0', 'B1', 'B2', 'B3'],\n",
    "                        'C': ['C0', 'C1', 'C2', 'C3'],\n",
    "                        'D': ['D0', 'D1', 'D2', 'D3']},\n",
    "                        index=[0, 1, 2, 3])\n",
    "\n",
    "df2 = pd.DataFrame({'A': ['A4', 'A5', 'A6', 'A7'],\n",
    "                        'B': ['B4', 'B5', 'B6', 'B7'],\n",
    "                        'C': ['C4', 'C5', 'C6', 'C7'],\n",
    "                        'D': ['D4', 'D5', 'D6', 'D7']},\n",
    "                         index=[4, 5, 6, 7]) \n",
    "\n",
    "df3 = pd.DataFrame({'A': ['A8', 'A9', 'A10', 'A11'],\n",
    "                        'B': ['B8', 'B9', 'B10', 'B11'],\n",
    "                        'C': ['C8', 'C9', 'C10', 'C11'],\n",
    "                        'D': ['D8', 'D9', 'D10', 'D11']},\n",
    "                        index=[8, 9, 10, 11])"
   ]
  },
  {
   "cell_type": "code",
   "execution_count": null,
   "metadata": {},
   "outputs": [],
   "source": [
    "df1"
   ]
  },
  {
   "cell_type": "code",
   "execution_count": null,
   "metadata": {},
   "outputs": [],
   "source": [
    "df2"
   ]
  },
  {
   "cell_type": "code",
   "execution_count": null,
   "metadata": {},
   "outputs": [],
   "source": [
    "df3"
   ]
  },
  {
   "cell_type": "code",
   "execution_count": null,
   "metadata": {},
   "outputs": [],
   "source": [
    "pd.concat([df1,df2,df3])"
   ]
  },
  {
   "cell_type": "code",
   "execution_count": null,
   "metadata": {},
   "outputs": [],
   "source": [
    "pd.concat([df1,df2,df3],axis=1)"
   ]
  },
  {
   "cell_type": "markdown",
   "metadata": {},
   "source": [
    "### Merging\n",
    "\n",
    "The **merge** function allows you to merge DataFrames together using a similar logic as merging SQL Tables together. For example:"
   ]
  },
  {
   "cell_type": "code",
   "execution_count": null,
   "metadata": {},
   "outputs": [],
   "source": [
    "left = pd.DataFrame({'key': ['K0', 'K1', 'K2', 'K3'],\n",
    "                     'A': ['A0', 'A1', 'A2', 'A3'],\n",
    "                     'B': ['B0', 'B1', 'B2', 'B3']})\n",
    "   \n",
    "right = pd.DataFrame({'key': ['K0', 'K1', 'K2', 'K3'],\n",
    "                          'C': ['C0', 'C1', 'C2', 'C3'],\n",
    "                          'D': ['D0', 'D1', 'D2', 'D3']})  "
   ]
  },
  {
   "cell_type": "code",
   "execution_count": null,
   "metadata": {},
   "outputs": [],
   "source": [
    "left"
   ]
  },
  {
   "cell_type": "code",
   "execution_count": null,
   "metadata": {},
   "outputs": [],
   "source": [
    "right"
   ]
  },
  {
   "cell_type": "code",
   "execution_count": null,
   "metadata": {},
   "outputs": [],
   "source": [
    "pd.merge(left,right,how='inner',on='key')"
   ]
  },
  {
   "cell_type": "markdown",
   "metadata": {},
   "source": [
    "## Joining\n",
    "\n",
    "Joining is a convenient method for combining the columns of two potentially differently-indexed DataFrames into a single result DataFrame."
   ]
  },
  {
   "cell_type": "code",
   "execution_count": null,
   "metadata": {},
   "outputs": [],
   "source": [
    "left = pd.DataFrame({'A': ['A0', 'A1', 'A2'],\n",
    "                     'B': ['B0', 'B1', 'B2']},\n",
    "                      index=['K0', 'K1', 'K2']) \n",
    "\n",
    "right = pd.DataFrame({'C': ['C0', 'C2', 'C3'],\n",
    "                    'D': ['D0', 'D2', 'D3']},\n",
    "                      index=['K0', 'K2', 'K3'])"
   ]
  },
  {
   "cell_type": "code",
   "execution_count": null,
   "metadata": {},
   "outputs": [],
   "source": [
    "left"
   ]
  },
  {
   "cell_type": "code",
   "execution_count": null,
   "metadata": {},
   "outputs": [],
   "source": [
    "right"
   ]
  },
  {
   "cell_type": "code",
   "execution_count": null,
   "metadata": {},
   "outputs": [],
   "source": [
    "left.join(right)"
   ]
  },
  {
   "cell_type": "code",
   "execution_count": null,
   "metadata": {},
   "outputs": [],
   "source": [
    "left.join(right, how='outer')"
   ]
  },
  {
   "cell_type": "markdown",
   "metadata": {},
   "source": [
    "# Exploratory Data Analysis (Pandas Exercises)\n",
    "\n",
    "## Outline\n",
    "\n",
    "\n",
    "    . Pendahuluan EDA\n",
    "    . Importing Data\n",
    "    . Data Understanding (tipe data, null values, duplikasi, variable selection, dsj)\n",
    "    . Missing Values\n",
    "    . Noise dan Outliers\n",
    "    . Basic Statistics with visualization\n"
   ]
  },
  {
   "attachments": {
    "CRISP-DM.png": {
     "image/png": "[encoded data removed]"
    }
   },
   "cell_type": "markdown",
   "metadata": {},
   "source": [
    "## 1. Pendahuluan EDA\n",
    "![CRISP-DM.png](attachment:CRISP-DM.png)\n",
    "\n",
    "Data Understanding:\n",
    "* Data apa yang tersedia?\n",
    "* Seberapa banyak (dan lama) data tersedia?\n",
    "* Ada yang memiliki label? (Variabel Target)\n",
    "* Apakah data ini relevan? Atau bisa dibuat relevan?\n",
    "* Bagaimana dengan kualitas data ini?\n",
    "* Ada data tambahan (eksternal)?\n",
    "* Siapa yang memahami tentang data ini dengan baik?\n"
   ]
  },
  {
   "cell_type": "markdown",
   "metadata": {},
   "source": [
    "## EDA ?\n",
    "* EDA menjadi tahapan awal dari sebagian besar proses analisis data, tahap yang menentukan seberapa baik analisis data selanjutnya akan dihasilkan.\n",
    "* Kemampuan untuk melakukan EDA dengan baik merupakan syarat dasar terkait dengan pengolahan data, baik itu *business intelligence, data analyst, data scientist*, dsb\n",
    "* EDA meliputi preprocessing, perhitungan statistik dasar, visualisasi, penyusunan hipotesis (dugaan awal), pemeriksaan asumsi, hingga story-telling dan reporting. Di dalamnya juga termasuk proses penanganan missing values, outlier, reduksi dimensi, pengelompokkan, transformasi dan distribusi data.\n",
    "* Tools: Python, R, S-Plus, etc\n",
    "\n",
    "## Tujuan EDA\n",
    "1. Menarik hipotesis tentang penyebab fenomena yang diamati\n",
    "2. Menilai asumsi yang menjadi dasar inferensi statistik\n",
    "3. Mendukung pemilihan teknik statistik yang tepat\n",
    "4. Memberikan dasar untuk pengumpulan data lebih lanjut\n",
    "(Ref : John Tukey (1961))"
   ]
  },
  {
   "cell_type": "markdown",
   "metadata": {},
   "source": [
    "# EDA dengan dataset Titanic"
   ]
  },
  {
   "attachments": {
    "Titanic_2.jpg": {
     "image/jpeg": "[encoded data removed]"
    }
   },
   "cell_type": "markdown",
   "metadata": {},
   "source": [
    "![Titanic_2.jpg](attachment:Titanic_2.jpg)\n",
    "\n",
    "\"Tenggelamnya Titanic\" karya Willy Stöwer (The Vintage)"
   ]
  },
  {
   "cell_type": "markdown",
   "metadata": {},
   "source": [
    "<details>\n",
    "\n",
    "### Masalah\n",
    "1. klasifikasi penumpang selamat\n",
    "2. hubungan antara atribut-atribut penumpang terhadap keselamatan penumpang\n",
    "\n",
    "### Tujuan\n",
    "1. mencari hubungan atribut penumpang terhadap keselamatan dalam tenggelamnya kapal\n",
    "2. melakukan prediksi berdasarkan klasifikasi penumpang"
   ]
  },
  {
   "cell_type": "markdown",
   "metadata": {},
   "source": [
    "## 2. Importing Data"
   ]
  },
  {
   "cell_type": "code",
   "execution_count": null,
   "metadata": {},
   "outputs": [],
   "source": [
    "import pandas as pd\n",
    "import numpy as np \n",
    "import matplotlib as mpl\n",
    "from matplotlib import pyplot as plt\n",
    "\n",
    "import seaborn as sns"
   ]
  },
  {
   "cell_type": "markdown",
   "metadata": {},
   "source": [
    "<details>\n",
    "    \n",
    "    * Pandas > library pada Python yang digunakan untuk memproses data (*data cleansing*, manipulasi data, analisis data).\n",
    "    * Numpy > Numerical Python, library pada Python yang digunakan untuk melakukan komputasi data yang bertipe numerik.\n",
    "    * Matplotlib > library pada Python yang digunakan untuk melakukan visualisasi data.\n",
    "    * Seaborn > library pada Python yang digunakan untuk melakukan visualisasi data statistik dengan tampilan yang berkualitas tinggi."
   ]
  },
  {
   "cell_type": "code",
   "execution_count": null,
   "metadata": {},
   "outputs": [],
   "source": [
    "data = pd.read_csv('titanic.csv')"
   ]
  },
  {
   "cell_type": "markdown",
   "metadata": {},
   "source": [
    "## 3. Data Understanding"
   ]
  },
  {
   "cell_type": "markdown",
   "metadata": {},
   "source": [
    "<details>\n",
    "    \n",
    "    Tipe Data\n",
    "    1. Data Continous\n",
    "        * Ratio\n",
    "        * Interval\n",
    "    2. Data Kategorik\n",
    "        * Ordinal\n",
    "        * Nominal"
   ]
  },
  {
   "cell_type": "markdown",
   "metadata": {},
   "source": [
    "## \"mengintip\" data"
   ]
  },
  {
   "cell_type": "code",
   "execution_count": null,
   "metadata": {},
   "outputs": [],
   "source": [
    "data.head()\n",
    "#data.tail()\n",
    "#data.sample()\n"
   ]
  },
  {
   "cell_type": "markdown",
   "metadata": {},
   "source": [
    "## mencari informasi data"
   ]
  },
  {
   "cell_type": "code",
   "execution_count": null,
   "metadata": {},
   "outputs": [],
   "source": [
    "#data.shape\n",
    "#data.size\n",
    "#data.columns\n",
    "#data.index\n",
    "#data.dtypes\n",
    "data.info"
   ]
  },
  {
   "cell_type": "markdown",
   "metadata": {},
   "source": [
    "- dataset mempunyai 891 row dan 12 kolom"
   ]
  },
  {
   "cell_type": "markdown",
   "metadata": {},
   "source": [
    "## Missing Value, Data Duplicated"
   ]
  },
  {
   "cell_type": "code",
   "execution_count": null,
   "metadata": {},
   "outputs": [],
   "source": [
    "# Missing Value\n",
    "\n",
    "data.isnull().sum() #atau data.isna().sum()\n",
    "data.isnull().sum()*100/len(data)"
   ]
  },
  {
   "cell_type": "code",
   "execution_count": null,
   "metadata": {},
   "outputs": [],
   "source": [
    "# cek dupliaksi row data\n",
    "data.duplicated().sum()\n",
    "\n",
    "# cek dupliksi tiap kolom\n",
    "data.Ticket.duplicated().sum()"
   ]
  },
  {
   "cell_type": "markdown",
   "metadata": {},
   "source": [
    "##  mengecek label/variabel target"
   ]
  },
  {
   "cell_type": "code",
   "execution_count": null,
   "metadata": {},
   "outputs": [],
   "source": [
    "data.Survived.unique()"
   ]
  },
  {
   "cell_type": "code",
   "execution_count": null,
   "metadata": {},
   "outputs": [],
   "source": [
    "# mengecek data unik pada 'Cabin'\n",
    "data.Cabin.nunique()\n",
    "\n",
    "#data.sort_values(['Cabin'], ascending = (True))\n",
    "\n",
    "#cabin = data[data['Cabin'].notna()]\n",
    "\n",
    "#cabin.head(10)"
   ]
  },
  {
   "cell_type": "markdown",
   "metadata": {},
   "source": [
    "data pada kolom 'Age' dan 'Cabin' membutuhkan perhartian lebih di fase berikutnya"
   ]
  },
  {
   "attachments": {
    "WhatsApp%20Image%202021-07-24%20at%2023.17.12.jpeg": {
     "image/jpeg": "[encoded data removed]"
    }
   },
   "cell_type": "markdown",
   "metadata": {},
   "source": [
    "![WhatsApp%20Image%202021-07-24%20at%2023.17.12.jpeg](attachment:WhatsApp%20Image%202021-07-24%20at%2023.17.12.jpeg)"
   ]
  },
  {
   "cell_type": "markdown",
   "metadata": {},
   "source": [
    "## statistik dasar"
   ]
  },
  {
   "cell_type": "code",
   "execution_count": null,
   "metadata": {},
   "outputs": [],
   "source": [
    "## diskripsi untuk data kuantitatif\n",
    "data.describe()"
   ]
  },
  {
   "cell_type": "code",
   "execution_count": null,
   "metadata": {},
   "outputs": [],
   "source": [
    "## diskripsi untuk data kualitatif\n",
    "data.describe(include=['O'])"
   ]
  },
  {
   "cell_type": "markdown",
   "metadata": {},
   "source": [
    "<details>\n",
    "Asumsi setelah melakukan analisis dasar\n",
    "\n",
    "1. Korelasi: mengetahui seberapa kuat setiap fitur berkorelasi dengan 'Survived'\n",
    "2. Kelengkapan :\n",
    "    * 'Age' terdapat \"null values\", namun tidak banyak, harus diatangani\n",
    "    * 'Embarked' terdapat sedikit \"null values\", perlu dilengkapi karena mempunyai kemungkinan berkorelasi dengan 'Survived'\n",
    "3. Keakuratan : \n",
    "    * 'PassengerId' dapat dikeluarkan karena tidak berkontribusi pada keselamatan.\n",
    "    * 'Ticket' terdapat dupliksi cukup banyak dan tidak berkontribusi pada keselamatan.\n",
    "    * 'Cabin' terlalu banyak \"null values\", namun mungkin berkorelasi dengan 'Survived'\n",
    "    * 'Name' unik dan tidak standar, namun tidak memiliki \"null values\" dan terdapat titel standar, titel kemungkinan berkorelasi dengan 'Survived'\n",
    "4. Enginering:\n",
    "    * 'SibSp' dapat digunakan untuk membuat kelompok, kemungkinan berkorelasi dengan 'Survived'\n",
    "    * 'Parch' dapat digunakan untuk membuat fitur keluarga, kemungkinan berkorelasi dengan 'Survived'\n",
    "    * 'Name' dapat dilakukan ekstraksi untuk mengeluarkan titel\n",
    "    * 'Age' dapat dikelompokkan menjadi ordinal kategori\n",
    "    * 'Fare' dapat dikelompokkan menjadi ordinal kategori\n",
    "5. Perempuan, anak-anak, orang kaya lebih mungkin untuk bertahan hidup.\n",
    "</details>"
   ]
  },
  {
   "cell_type": "markdown",
   "metadata": {},
   "source": [
    "### Melihat koralasi antar fitur"
   ]
  },
  {
   "cell_type": "code",
   "execution_count": null,
   "metadata": {},
   "outputs": [],
   "source": [
    "## correlation\n",
    "data.corr()"
   ]
  },
  {
   "cell_type": "code",
   "execution_count": null,
   "metadata": {},
   "outputs": [],
   "source": [
    "sns.heatmap(data.corr(),annot=True,cmap='RdYlGn',linewidths=0.5) #data.corr()-->correlation matrix\n",
    "fig=plt.gcf()\n",
    "fig.set_size_inches(8,5)\n",
    "plt.show()\n",
    "\n",
    "#plt.figure(figsize=(8,5))\n",
    "#sns.heatmap(data.corr(), annot=True)"
   ]
  },
  {
   "cell_type": "markdown",
   "metadata": {},
   "source": [
    "-terdapat 2 fitur, 'Pclass' dan 'Fare' yang saling berkorelasi"
   ]
  },
  {
   "cell_type": "markdown",
   "metadata": {},
   "source": [
    "## Eksplorasi Variabel"
   ]
  },
  {
   "cell_type": "markdown",
   "metadata": {},
   "source": [
    "### Data Kategorik"
   ]
  },
  {
   "cell_type": "code",
   "execution_count": null,
   "metadata": {},
   "outputs": [],
   "source": [
    "f,ax=plt.subplots(1,3,figsize=(15,4))\n",
    "\n",
    "# subplot 1\n",
    "data['Survived'].value_counts().sort_index().plot.bar(color=['blue','green'],ax=ax[0])\n",
    "ax[0].set_title('Number Of Passengers By Survived')\n",
    "ax[0].set_ylabel('Count')\n",
    "\n",
    "\n",
    "# subplot 2 \n",
    "data['Sex'].value_counts().sort_index().plot.bar(color=['blue','green'],ax=ax[1])\n",
    "ax[1].set_title('Number Of Passengers By Sex')\n",
    "ax[1].set_ylabel('Count')\n",
    "\n",
    "# subplot 3 \n",
    "data['Pclass'].value_counts().sort_index().plot.bar(color=['blue','green','red'],ax=ax[2])\n",
    "ax[2].set_title('Number Of Passengers By Pclass')\n",
    "ax[2].set_ylabel('Count')\n",
    "\n",
    "# show\n",
    "plt.show()"
   ]
  },
  {
   "cell_type": "code",
   "execution_count": null,
   "metadata": {},
   "outputs": [],
   "source": [
    "f,ax=plt.subplots(1,3,figsize=(15,4))\n",
    "\n",
    "# subplot 1 \n",
    "data['Embarked'].value_counts().sort_index().plot.bar(color=['blue','green','red','yellow'],ax=ax[0])\n",
    "ax[0].set_title('Number Of Passengers By Embarked')\n",
    "ax[0].set_ylabel('Count')\n",
    "\n",
    "# subplot 1\n",
    "data['SibSp'].value_counts().sort_index().plot.bar(color=['blue','green'],ax=ax[1])\n",
    "ax[1].set_title('Number Of Passengers By SibSp')\n",
    "ax[1].set_ylabel('Count')\n",
    "\n",
    "\n",
    "# subplot 2 \n",
    "data['Parch'].value_counts().sort_index().plot.bar(color=['blue','green'],ax=ax[2])\n",
    "ax[2].set_title('Number Of Passengers By Parch')\n",
    "ax[2].set_ylabel('Count')\n",
    "\n",
    "# show\n",
    "plt.show()"
   ]
  },
  {
   "cell_type": "markdown",
   "metadata": {},
   "source": [
    "### Data Continous"
   ]
  },
  {
   "cell_type": "code",
   "execution_count": null,
   "metadata": {},
   "outputs": [],
   "source": [
    "f,ax=plt.subplots(figsize=(10,8))\n",
    "\n",
    "plt.subplot(2,2,1)\n",
    "data.Age.plot.hist()\n",
    "plt.title('Age')\n",
    "\n",
    "plt.subplot(2,2,2)\n",
    "data.Fare.plot.hist()\n",
    "plt.title('Fare')"
   ]
  },
  {
   "cell_type": "markdown",
   "metadata": {},
   "source": [
    "### Outliers"
   ]
  },
  {
   "cell_type": "code",
   "execution_count": null,
   "metadata": {},
   "outputs": [],
   "source": [
    "f,ax=plt.subplots(figsize=(10,8))\n",
    "\n",
    "plt.subplot(2,2,1)\n",
    "data['Age'].plot.box()\n",
    "plt.title('Age')\n",
    "\n",
    "plt.subplot(2,2,2)\n",
    "data['Fare'].plot.box()\n",
    "plt.title('Fare')"
   ]
  },
  {
   "cell_type": "code",
   "execution_count": null,
   "metadata": {},
   "outputs": [],
   "source": [
    "data.plot.scatter('Age', 'Fare')"
   ]
  },
  {
   "cell_type": "markdown",
   "metadata": {},
   "source": [
    "#### Kesimpulan Sementara\n",
    "    - jumlah penumpang 'survived' lebih sedikit daripada 'unsurvived'\n",
    "    - jumlah penumpang 'male' lebih banyak daripada penumpang 'female'\n",
    "    - jumlah penumpang kelas 3 lebih banyak daripada kelas lainnya\n",
    "    - jumlah penumpang sendirian lebih banyak dari pada yang keluarga dan saudara\n",
    "    - jumlah penumpang dengan 'Embarked' Southampton lebih banyak daripada embarked lainnya\n",
    "    - penumpang paling banyak berkisar pada usia 20 - 40 tahun\n",
    "    - terdapat data outlier pada fitur 'Age' dan fitur 'Fare'\n",
    "    - data pada fitur 'Age' dan 'Fare' mempunyai sebaran data tidak normal"
   ]
  },
  {
   "cell_type": "markdown",
   "metadata": {},
   "source": [
    "# Analisis Bivariat\n",
    "\n",
    "<details>\n",
    "    analisis yang dilakukan untuk mengetahui hubungan/keterkaitan dua variabel/kumpulan nilai.\n",
    "</details>"
   ]
  },
  {
   "cell_type": "markdown",
   "metadata": {},
   "source": [
    "#### Sex vs Survived"
   ]
  },
  {
   "cell_type": "code",
   "execution_count": null,
   "metadata": {},
   "outputs": [],
   "source": [
    "data_ct_sex = pd.crosstab(data['Sex'], data['Survived'],margins=True)\n",
    "data_ct_sex.style.background_gradient(cmap='summer_r')"
   ]
  },
  {
   "cell_type": "markdown",
   "metadata": {},
   "source": [
    "#### Pclass vs Survived"
   ]
  },
  {
   "cell_type": "code",
   "execution_count": null,
   "metadata": {},
   "outputs": [],
   "source": [
    "data_ct_pclass = pd.crosstab(data['Pclass'], data['Survived'],margins=True)\n",
    "data_ct_pclass.style.background_gradient(cmap='summer_r')"
   ]
  },
  {
   "cell_type": "markdown",
   "metadata": {},
   "source": [
    "#### Embarked vs Survived"
   ]
  },
  {
   "cell_type": "code",
   "execution_count": null,
   "metadata": {},
   "outputs": [],
   "source": [
    "data_ct_embarked = pd.crosstab(data['Embarked'], data['Survived'],margins=True)\n",
    "data_ct_embarked.style.background_gradient(cmap='summer_r')"
   ]
  },
  {
   "cell_type": "markdown",
   "metadata": {},
   "source": [
    "#### SibSp vs Survived"
   ]
  },
  {
   "cell_type": "code",
   "execution_count": null,
   "metadata": {},
   "outputs": [],
   "source": [
    "data_ct_sibsp = pd.crosstab(data['SibSp'], data['Survived'],margins=True)\n",
    "data_ct_sibsp.style.background_gradient(cmap='summer_r')"
   ]
  },
  {
   "cell_type": "markdown",
   "metadata": {},
   "source": [
    "#### Parch vs Survived"
   ]
  },
  {
   "cell_type": "code",
   "execution_count": null,
   "metadata": {},
   "outputs": [],
   "source": [
    "data_ct_parch = pd.crosstab(data['Parch'], data['Survived'],margins=True)\n",
    "data_ct_parch.style.background_gradient(cmap='summer_r')"
   ]
  },
  {
   "cell_type": "markdown",
   "metadata": {},
   "source": [
    "#### Uji Normalitas Data"
   ]
  },
  {
   "cell_type": "markdown",
   "metadata": {},
   "source": [
    "#### Data Kualitatif"
   ]
  },
  {
   "cell_type": "code",
   "execution_count": null,
   "metadata": {},
   "outputs": [],
   "source": [
    "from scipy.stats import chi2_contingency\n",
    "  \n",
    "def chi_test(data):    \n",
    "    # defining the table\n",
    "    stat, p, dof, expected = chi2_contingency(data)\n",
    "\n",
    "    # interpret p-value\n",
    "    alpha = 0.05\n",
    "    print(\"p value is \" + str(p))\n",
    "    if p <= alpha:\n",
    "        print('Dependent (reject H0)')\n",
    "    else:\n",
    "        print('Independent (H0 holds true)')\n",
    "\n",
    "chi_test(data_ct_sex)\n",
    "chi_test(data_ct_pclass)\n",
    "chi_test(data_ct_embarked)\n",
    "chi_test(data_ct_sibsp)\n",
    "chi_test(data_ct_parch)"
   ]
  },
  {
   "cell_type": "markdown",
   "metadata": {},
   "source": [
    "#### Data Kuantitatif"
   ]
  },
  {
   "cell_type": "code",
   "execution_count": null,
   "metadata": {},
   "outputs": [],
   "source": [
    "# Age\n",
    "\n",
    "plt.figure(figsize=(2,2))\n",
    "sns.displot(data.Age, color = \"green\")"
   ]
  },
  {
   "cell_type": "code",
   "execution_count": null,
   "metadata": {},
   "outputs": [],
   "source": [
    "# Fare\n",
    "\n",
    "plt.figure(figsize=(10,5))\n",
    "sns.displot(data.Fare, color = \"green\")"
   ]
  },
  {
   "cell_type": "code",
   "execution_count": null,
   "metadata": {},
   "outputs": [],
   "source": [
    "import warnings\n",
    "warnings.filterwarnings('ignore')"
   ]
  },
  {
   "cell_type": "markdown",
   "metadata": {},
   "source": [
    "### Data Kategorik vs Target (Dependent)"
   ]
  },
  {
   "cell_type": "code",
   "execution_count": null,
   "metadata": {},
   "outputs": [],
   "source": [
    "f,ax=plt.subplots(1,3,figsize=(15,5))\n",
    "\n",
    "# subplot 1\n",
    "sns.countplot('Sex',hue='Survived',data=data, ax=ax[0])\n",
    "ax[0].set_title('Sex')\n",
    "\n",
    "# subplot 2\n",
    "sns.countplot('Pclass',hue='Survived',data=data, ax=ax[1])\n",
    "ax[1].set_title('Pclass')\n",
    "\n",
    "# subplot 3\n",
    "sns.countplot('Embarked',hue='Survived',data=data, ax=ax[2])\n",
    "ax[2].set_title('Embarked')\n",
    "\n",
    "# show\n",
    "plt.show()"
   ]
  },
  {
   "cell_type": "code",
   "execution_count": null,
   "metadata": {},
   "outputs": [],
   "source": [
    "f,ax=plt.subplots(1,2,figsize=(15,5))\n",
    "\n",
    "# subplot 1\n",
    "sns.countplot('SibSp',hue='Survived',data=data, ax=ax[0])\n",
    "ax[0].set_title('SibSp')\n",
    "\n",
    "# subplot 2\n",
    "sns.countplot('Parch',hue='Survived',data=data, ax=ax[1])\n",
    "ax[1].set_title('Parch')\n",
    "\n",
    "# show\n",
    "plt.show()"
   ]
  },
  {
   "cell_type": "code",
   "execution_count": null,
   "metadata": {},
   "outputs": [],
   "source": [
    "f,ax=plt.subplots(1,2,figsize=(10,5))\n",
    "\n",
    "# subplot 1\n",
    "data['Embarked'].value_counts().sort_index().plot.bar(color=['blue','green','red'],ax=ax[0])\n",
    "ax[0].set_title('Number Of Passengers By Embarked')\n",
    "ax[0].set_ylabel('Count')\n",
    "\n",
    "# subplot 2 \n",
    "sns.countplot('Embarked',hue='Survived',data=data, ax=ax[1])\n",
    "ax[1].set_title('Embarked: Survived vs Dead')\n",
    "\n",
    "plt.show()"
   ]
  },
  {
   "cell_type": "markdown",
   "metadata": {},
   "source": [
    "#### cara coding lainnya"
   ]
  },
  {
   "cell_type": "code",
   "execution_count": null,
   "metadata": {
    "scrolled": true
   },
   "outputs": [],
   "source": [
    "cat_var = ['Pclass','Sex','Embarked','SibSp','Parch']\n",
    "\n",
    "fig, axes = plt.subplots(2, 3, figsize=(15,10))\n",
    "for cat, ax in zip(cat_var, axes.flatten()):\n",
    "    sns.countplot(cat, data=data, hue='Survived', ax=ax)\n",
    "    #    print(cat, ax)"
   ]
  },
  {
   "cell_type": "markdown",
   "metadata": {},
   "source": [
    "### Data Continous vs Target (Dependent)"
   ]
  },
  {
   "cell_type": "code",
   "execution_count": null,
   "metadata": {},
   "outputs": [],
   "source": [
    "plt.figure(figsize=(10,5))\n",
    "\n",
    "sns.distplot(data.Age[data.Survived == 0], color = 'red', label = 'not survive')\n",
    "sns.distplot(data.Age[data.Survived == 1], color = 'green', label = 'survive')"
   ]
  },
  {
   "cell_type": "markdown",
   "metadata": {},
   "source": [
    "kesimpulan\n",
    "- Jumlah pria di kapal jauh lebih banyak daripada jumlah wanita. Namun jumlah wanita yang diselamatkan lebih banyak jumlah pria yang diselamatkan.\n",
    "- Jenis kelamin mungkin menjadi variabel yang menentukan keselamatan\n",
    "- **'Sex'** kemungkinan menjadi fitur yang **penting** untuk pemodelan\n",
    "\n",
    "- Penumpang Pclass 1 mempunyai angka keselamatan yang tinggi. Meski jumlah Penumpang di Pclass 3 jauh lebih tinggi, namun angka keselamatan dari mereka rendah.\n",
    "- Kelas kabin mungkin menjadi variabel yang menentukan keselamatan \n",
    "- **'Pclass'** kemungkinan menjadi fitur yang **penting** untuk pemodelan\n",
    "\n",
    "- Pelabuhan keberangkatan tidak menunjukkan pola yang menjadi penentu keselamatan\n",
    "- **'Embarked'** kemungkinan menjadi fitur yang **tidak terlalu penting** untuk pemodelan\n",
    "\n",
    "- Penumpang yang sendirian, lebih banyak yang tidak selamat, tapi yang mempunyai saudara dan anak/orangtua 1 cenderung selamat\n",
    "- **'SibSp'** dan **'Parch'** kemungkinan menjadi fitur yang **penting** untuk pemodelan"
   ]
  },
  {
   "cell_type": "markdown",
   "metadata": {},
   "source": [
    "# Lanjut Ke Tahap Berikutnya (Feature Engineering)"
   ]
  }
 ],
 "metadata": {
  "kernelspec": {
   "display_name": "Python 3",
   "language": "python",
   "name": "python3"
  },
  "language_info": {
   "codemirror_mode": {
    "name": "ipython",
    "version": 3
   },
   "file_extension": ".py",
   "mimetype": "text/x-python",
   "name": "python",
   "nbconvert_exporter": "python",
   "pygments_lexer": "ipython3",
   "version": "3.8.5"
  }
 },
 "nbformat": 4,
 "nbformat_minor": 5
}
