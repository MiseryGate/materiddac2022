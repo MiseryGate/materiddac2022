{
 "cells": [
  {
   "cell_type": "markdown",
   "id": "50c243c6",
   "metadata": {},
   "source": [
    "# Pandas Intro"
   ]
  },
  {
   "cell_type": "markdown",
   "id": "2e958f15",
   "metadata": {},
   "source": [
    "## Install and run pandas"
   ]
  },
  {
   "cell_type": "code",
   "execution_count": 1,
   "id": "5a430605",
   "metadata": {},
   "outputs": [
    {
     "name": "stdout",
     "output_type": "stream",
     "text": [
      "Requirement already satisfied: pandas in /usr/local/lib/python3.9/site-packages (1.2.4)\n",
      "Requirement already satisfied: numpy>=1.16.5 in /usr/local/lib/python3.9/site-packages (from pandas) (1.20.2)\n",
      "Requirement already satisfied: pytz>=2017.3 in /usr/local/lib/python3.9/site-packages (from pandas) (2021.1)\n",
      "Requirement already satisfied: python-dateutil>=2.7.3 in /usr/local/lib/python3.9/site-packages (from pandas) (2.8.1)\n",
      "Requirement already satisfied: six>=1.5 in /usr/local/lib/python3.9/site-packages (from python-dateutil>=2.7.3->pandas) (1.15.0)\n",
      "\u001b[33mWARNING: You are using pip version 21.1.3; however, version 21.2.1 is available.\n",
      "You should consider upgrading via the '/usr/local/opt/python@3.9/bin/python3.9 -m pip install --upgrade pip' command.\u001b[0m\n"
     ]
    }
   ],
   "source": [
    "!pip install pandas\n",
    "\n",
    "## you can try following if pip not work\n",
    "\n",
    "## py -m pip install ... always works on Windows (provided pip is installed)\n",
    "## python -m pip install ... requires ...\\Python3x to be in the PATH\n",
    "## pip install ... requires ...\\Python3x\\Scripts to be in the PATH\n",
    "## pip3 install ... for older version\n",
    "\n",
    "import numpy as np\n",
    "import pandas as pd"
   ]
  },
  {
   "cell_type": "markdown",
   "id": "2575cb95",
   "metadata": {},
   "source": [
    "## Series and Dataframe"
   ]
  },
  {
   "cell_type": "code",
   "execution_count": 2,
   "id": "6a438681",
   "metadata": {},
   "outputs": [
    {
     "name": "stdout",
     "output_type": "stream",
     "text": [
      "   kolomA kolomB\n",
      "0       1      A\n",
      "1       2      B\n",
      "2       3      A\n",
      "   koloma kolomb\n",
      "0       1      A\n",
      "1       2      A\n",
      "2       3      B\n"
     ]
    },
    {
     "data": {
      "text/html": [
       "<div>\n",
       "<style scoped>\n",
       "    .dataframe tbody tr th:only-of-type {\n",
       "        vertical-align: middle;\n",
       "    }\n",
       "\n",
       "    .dataframe tbody tr th {\n",
       "        vertical-align: top;\n",
       "    }\n",
       "\n",
       "    .dataframe thead th {\n",
       "        text-align: right;\n",
       "    }\n",
       "</style>\n",
       "<table border=\"1\" class=\"dataframe\">\n",
       "  <thead>\n",
       "    <tr style=\"text-align: right;\">\n",
       "      <th></th>\n",
       "      <th>koloma</th>\n",
       "      <th>kolomb</th>\n",
       "    </tr>\n",
       "  </thead>\n",
       "  <tbody>\n",
       "    <tr>\n",
       "      <th>0</th>\n",
       "      <td>1</td>\n",
       "      <td>A</td>\n",
       "    </tr>\n",
       "    <tr>\n",
       "      <th>1</th>\n",
       "      <td>2</td>\n",
       "      <td>A</td>\n",
       "    </tr>\n",
       "    <tr>\n",
       "      <th>2</th>\n",
       "      <td>3</td>\n",
       "      <td>B</td>\n",
       "    </tr>\n",
       "  </tbody>\n",
       "</table>\n",
       "</div>"
      ],
      "text/plain": [
       "   koloma kolomb\n",
       "0       1      A\n",
       "1       2      A\n",
       "2       3      B"
      ]
     },
     "execution_count": 2,
     "metadata": {},
     "output_type": "execute_result"
    }
   ],
   "source": [
    "# Series dan data frame\n",
    "\n",
    "# membuat series\n",
    "A = [1,2,3]\n",
    "series = pd.Series(A)\n",
    "\n",
    "## membuat data frame dari series\n",
    "B = ['A','B','A']\n",
    "frame = { 'kolomA' : A, 'kolomB' : B }\n",
    "data = pd.DataFrame(frame)\n",
    "data\n",
    "\n",
    "## membuat data frame\n",
    "dataset = pd.DataFrame(data = {\n",
    "    'koloma' : [1,2,3],\n",
    "    'kolomb' : ['A','A','B']})\n",
    "\n",
    "## cek tipe data\n",
    "type(series)\n",
    "type(dataset)\n",
    "\n",
    "## melihat data\n",
    "print(data)\n",
    "print(dataset)\n",
    "\n",
    "## atau cukup\n",
    "dataset ## temporary view\n"
   ]
  },
  {
   "cell_type": "markdown",
   "id": "f2b3ce78",
   "metadata": {},
   "source": [
    "## load data"
   ]
  },
  {
   "cell_type": "code",
   "execution_count": 3,
   "id": "1b9de284",
   "metadata": {},
   "outputs": [
    {
     "data": {
      "text/html": [
       "<div>\n",
       "<style scoped>\n",
       "    .dataframe tbody tr th:only-of-type {\n",
       "        vertical-align: middle;\n",
       "    }\n",
       "\n",
       "    .dataframe tbody tr th {\n",
       "        vertical-align: top;\n",
       "    }\n",
       "\n",
       "    .dataframe thead th {\n",
       "        text-align: right;\n",
       "    }\n",
       "</style>\n",
       "<table border=\"1\" class=\"dataframe\">\n",
       "  <thead>\n",
       "    <tr style=\"text-align: right;\">\n",
       "      <th></th>\n",
       "      <th>PassengerId</th>\n",
       "      <th>Survived</th>\n",
       "      <th>Pclass</th>\n",
       "      <th>Name</th>\n",
       "      <th>Sex</th>\n",
       "      <th>Age</th>\n",
       "      <th>SibSp</th>\n",
       "      <th>Parch</th>\n",
       "      <th>Ticket</th>\n",
       "      <th>Fare</th>\n",
       "      <th>Cabin</th>\n",
       "      <th>Embarked</th>\n",
       "    </tr>\n",
       "  </thead>\n",
       "  <tbody>\n",
       "    <tr>\n",
       "      <th>0</th>\n",
       "      <td>1</td>\n",
       "      <td>0</td>\n",
       "      <td>3</td>\n",
       "      <td>Braund, Mr. Owen Harris</td>\n",
       "      <td>male</td>\n",
       "      <td>22.0</td>\n",
       "      <td>1</td>\n",
       "      <td>0</td>\n",
       "      <td>A/5 21171</td>\n",
       "      <td>7.2500</td>\n",
       "      <td>NaN</td>\n",
       "      <td>S</td>\n",
       "    </tr>\n",
       "    <tr>\n",
       "      <th>1</th>\n",
       "      <td>2</td>\n",
       "      <td>1</td>\n",
       "      <td>1</td>\n",
       "      <td>Cumings, Mrs. John Bradley (Florence Briggs Th...</td>\n",
       "      <td>female</td>\n",
       "      <td>38.0</td>\n",
       "      <td>1</td>\n",
       "      <td>0</td>\n",
       "      <td>PC 17599</td>\n",
       "      <td>71.2833</td>\n",
       "      <td>C85</td>\n",
       "      <td>C</td>\n",
       "    </tr>\n",
       "    <tr>\n",
       "      <th>2</th>\n",
       "      <td>3</td>\n",
       "      <td>1</td>\n",
       "      <td>3</td>\n",
       "      <td>Heikkinen, Miss. Laina</td>\n",
       "      <td>female</td>\n",
       "      <td>26.0</td>\n",
       "      <td>0</td>\n",
       "      <td>0</td>\n",
       "      <td>STON/O2. 3101282</td>\n",
       "      <td>7.9250</td>\n",
       "      <td>NaN</td>\n",
       "      <td>S</td>\n",
       "    </tr>\n",
       "  </tbody>\n",
       "</table>\n",
       "</div>"
      ],
      "text/plain": [
       "   PassengerId  Survived  Pclass  \\\n",
       "0            1         0       3   \n",
       "1            2         1       1   \n",
       "2            3         1       3   \n",
       "\n",
       "                                                Name     Sex   Age  SibSp  \\\n",
       "0                            Braund, Mr. Owen Harris    male  22.0      1   \n",
       "1  Cumings, Mrs. John Bradley (Florence Briggs Th...  female  38.0      1   \n",
       "2                             Heikkinen, Miss. Laina  female  26.0      0   \n",
       "\n",
       "   Parch            Ticket     Fare Cabin Embarked  \n",
       "0      0         A/5 21171   7.2500   NaN        S  \n",
       "1      0          PC 17599  71.2833   C85        C  \n",
       "2      0  STON/O2. 3101282   7.9250   NaN        S  "
      ]
     },
     "execution_count": 3,
     "metadata": {},
     "output_type": "execute_result"
    }
   ],
   "source": [
    "## Working with pandas\n",
    "\n",
    "## checking working directory is important!\n",
    "## working directory is a place where you work\n",
    "import os\n",
    "\n",
    "## get wd\n",
    "os.getcwd()\n",
    "\n",
    "## change wd\n",
    "## os.chdir('../Bootcamp-Python4DA/') \n",
    "## os.chdir('../pandas intro and eda hackatlon/')\n",
    "\n",
    "df = pd.read_csv(\"titanic.csv\")\n",
    "\n",
    "## pd.read_csv('http://samplelink/samplefile.csv') ex. amazon aws link\n",
    "\n",
    "## absolute vs relative path\n",
    "path = \"../pandas intro and eda hackatlon/\" ## this is absolute path\n",
    "path2 = \"/Users/alannurcahyo/Documents/bahan ngajar hack dan kelas DA/\" ## this is relative path (big no)\n",
    "# pd.read_csv(\"../\") ... upper one step from home directory\n",
    "# pd.read_csv(\"~/\") ... root\n",
    "## safe bet is to copy paste your data on current wd\n",
    "\n",
    "## might nee to !pip install xlrd, or openpyxl\n",
    "## !pip install openpyxl\n",
    "## pd.read_excel(\"path\")\n",
    "## pd.read_html(\"path\") etc...\n",
    "\n",
    "\n",
    "## REading .txt? you can use read_csv to read .txt file too\n",
    "df2 = pd.read_csv(\"titanic.txt\", sep = \",\") ## by default separator is comma (,) however separator can be | , : ; etc \n",
    "df2.head(3)"
   ]
  },
  {
   "cell_type": "markdown",
   "id": "7efe1da4",
   "metadata": {},
   "source": [
    "## first glance"
   ]
  },
  {
   "cell_type": "code",
   "execution_count": 4,
   "id": "cac4a4fe",
   "metadata": {},
   "outputs": [
    {
     "name": "stdout",
     "output_type": "stream",
     "text": [
      "<class 'pandas.core.frame.DataFrame'>\n",
      "RangeIndex: 891 entries, 0 to 890\n",
      "Data columns (total 12 columns):\n",
      " #   Column       Non-Null Count  Dtype  \n",
      "---  ------       --------------  -----  \n",
      " 0   PassengerId  891 non-null    int64  \n",
      " 1   Survived     891 non-null    int64  \n",
      " 2   Pclass       891 non-null    int64  \n",
      " 3   Name         891 non-null    object \n",
      " 4   Sex          891 non-null    object \n",
      " 5   Age          714 non-null    float64\n",
      " 6   SibSp        891 non-null    int64  \n",
      " 7   Parch        891 non-null    int64  \n",
      " 8   Ticket       891 non-null    object \n",
      " 9   Fare         891 non-null    float64\n",
      " 10  Cabin        204 non-null    object \n",
      " 11  Embarked     889 non-null    object \n",
      "dtypes: float64(2), int64(5), object(5)\n",
      "memory usage: 83.7+ KB\n"
     ]
    },
    {
     "data": {
      "text/plain": [
       "891"
      ]
     },
     "execution_count": 4,
     "metadata": {},
     "output_type": "execute_result"
    }
   ],
   "source": [
    "## viewing data frame\n",
    "# use `df.head()` to see first few lines\n",
    "df.head(10)\n",
    "\n",
    "# use `df.tail` to see the other end\n",
    "df.tail(10)\n",
    "\n",
    "# use df.sample to get n sample\n",
    "df.sample(100)\n",
    "\n",
    "#n.largest untuk melihat nilai terbesar berdasarkan variable tertentu\n",
    "df.nlargest(10,'Age')\n",
    "\n",
    "df.nsmallest(4, 'Fare')\n",
    "\n",
    "## brief column info\n",
    "\n",
    "# columns untuk melihat nama kolom\n",
    "df.columns\n",
    "\n",
    "df.info()\n",
    "\n",
    "# shape and size\n",
    "df.shape\n",
    "\n",
    "# size rows*columns\n",
    "df.size \n",
    "\n",
    "## nrows\n",
    "len(df)\n"
   ]
  },
  {
   "cell_type": "markdown",
   "id": "4a28e169",
   "metadata": {},
   "source": [
    "## select and filter"
   ]
  },
  {
   "cell_type": "code",
   "execution_count": 5,
   "id": "a97d5129",
   "metadata": {},
   "outputs": [
    {
     "data": {
      "text/plain": [
       "0             Braund, Mr. Owen Harris\n",
       "4            Allen, Mr. William Henry\n",
       "6             McCarthy, Mr. Timothy J\n",
       "7      Palsson, Master. Gosta Leonard\n",
       "12     Saundercock, Mr. William Henry\n",
       "                    ...              \n",
       "878                Laleff, Mr. Kristo\n",
       "881                Markun, Mr. Johann\n",
       "883     Banfield, Mr. Frederick James\n",
       "884            Sutehall, Mr. Henry Jr\n",
       "886             Montvila, Rev. Juozas\n",
       "Name: Name, Length: 441, dtype: object"
      ]
     },
     "execution_count": 5,
     "metadata": {},
     "output_type": "execute_result"
    }
   ],
   "source": [
    "##  Selecting and Filtering Data\n",
    "\n",
    "## select columns\n",
    "# using .\n",
    "df.Fare\n",
    "\n",
    "# using []\n",
    "df['Pclass']\n",
    "\n",
    "# menggunakan extra `[]` untuk lebih dari satu kolom\n",
    "df[['Age','Pclass']]\n",
    "\n",
    "## filter rows with index\n",
    "df.iloc[0:10,]\n",
    "\n",
    "# or\n",
    "df.loc[0:10:2,]\n",
    "\n",
    "### select columns and rows\n",
    "## using loc for names\n",
    "df.loc[0:10, 'Cabin']\n",
    "df.loc[0:10,'PassengerId':'Cabin']\n",
    "df.loc[0:10:2,['PassengerId','Name','Cabin']]\n",
    "\n",
    "## using iloc for index number\n",
    "df.iloc[0:10,0:3]\n",
    "df.iloc[0:10, [0,3,2,1]] #personally I would strongly suggest againts it! hard code\n",
    "\n",
    "##etc: ## unique value\n",
    "df.Embarked.unique()\n",
    "\n",
    "## quick test: find odd rows from 0 to 20 for information: age, gender, and survived\n",
    "df.loc[0:20:2, ['Age', 'Sex', 'Survived']]\n",
    "df.iloc[0:20:2, [3,4,1]]\n",
    "\n",
    "##### save as object if you wnt to use it later\n",
    "\n",
    "### Filtering Data\n",
    "\n",
    "#### conditional\n",
    "df[df.Age >10]\n",
    "df[df.Age < np.mean(df.Age)] ## use numpy\n",
    "\n",
    "## or use querry\n",
    "df.query('Age < 10')\n",
    "\n",
    "## test: find data that has age doesnt equal to 22 and name it into only22\n",
    "only22 = df[df.Age != 22]\n",
    "# or \n",
    "only22 = df.query('Age != 22')\n",
    "\n",
    "## two\n",
    "df[(df.Age >10) & (df.Sex == 'male')]\n",
    "df[(df.Sex == 'male') | (df.Embarked == 'C')]\n",
    "\n",
    "## test : use querry for 1 example\n",
    "df.query('Sex == \"male\" & Age>10') #careful with '' and \"\"; they are same but using ''\n",
    "\n",
    "## contain null\n",
    "df[df.Age.isna()]\n",
    "\n",
    "\n",
    "## multi criteria using 'isin' for shorter line\n",
    "df[df.Embarked.isin(['S','C'])]\n",
    "\n",
    "\n",
    "######## using str,  regex or pattern, bit intermediate, I might skip it in class ##\n",
    "df[df['Name'].str.contains('Rose')] ##### we find Rose!!!\n",
    "df[df['Name'].str.startswith('M')]\n",
    "\n",
    "\n",
    "## test combine with column?\n",
    "### 1. name for passanger age less than 18?\n",
    "## 2. last name for male passanger that embarked from Southampton?\n",
    "\n",
    "df.loc[df.Age<18, 'Name']\n",
    "\n",
    "df.loc[(df.Embarked == \"S\") & (df.Sex == 'male'), 'Name']\n",
    "\n",
    "\n",
    "# pro tips: print all in view\n",
    "# with pd.option_context('display.max_rows', None, 'display.max_columns', None):  # more options can be specified also\n",
    "#    print(df.loc[df.Age<18, 'Name'])\n",
    "\n"
   ]
  },
  {
   "cell_type": "markdown",
   "id": "d3d4876d",
   "metadata": {},
   "source": [
    "## Sorting"
   ]
  },
  {
   "cell_type": "code",
   "execution_count": 6,
   "id": "0d21038b",
   "metadata": {},
   "outputs": [
    {
     "data": {
      "text/html": [
       "<div>\n",
       "<style scoped>\n",
       "    .dataframe tbody tr th:only-of-type {\n",
       "        vertical-align: middle;\n",
       "    }\n",
       "\n",
       "    .dataframe tbody tr th {\n",
       "        vertical-align: top;\n",
       "    }\n",
       "\n",
       "    .dataframe thead th {\n",
       "        text-align: right;\n",
       "    }\n",
       "</style>\n",
       "<table border=\"1\" class=\"dataframe\">\n",
       "  <thead>\n",
       "    <tr style=\"text-align: right;\">\n",
       "      <th></th>\n",
       "      <th>PassengerId</th>\n",
       "      <th>Survived</th>\n",
       "      <th>Pclass</th>\n",
       "      <th>Name</th>\n",
       "      <th>Sex</th>\n",
       "      <th>Age</th>\n",
       "      <th>SibSp</th>\n",
       "      <th>Parch</th>\n",
       "      <th>Ticket</th>\n",
       "      <th>Fare</th>\n",
       "      <th>Cabin</th>\n",
       "      <th>Embarked</th>\n",
       "    </tr>\n",
       "  </thead>\n",
       "  <tbody>\n",
       "    <tr>\n",
       "      <th>803</th>\n",
       "      <td>804</td>\n",
       "      <td>1</td>\n",
       "      <td>3</td>\n",
       "      <td>Thomas, Master. Assad Alexander</td>\n",
       "      <td>male</td>\n",
       "      <td>0.42</td>\n",
       "      <td>0</td>\n",
       "      <td>1</td>\n",
       "      <td>2625</td>\n",
       "      <td>8.5167</td>\n",
       "      <td>NaN</td>\n",
       "      <td>C</td>\n",
       "    </tr>\n",
       "    <tr>\n",
       "      <th>755</th>\n",
       "      <td>756</td>\n",
       "      <td>1</td>\n",
       "      <td>2</td>\n",
       "      <td>Hamalainen, Master. Viljo</td>\n",
       "      <td>male</td>\n",
       "      <td>0.67</td>\n",
       "      <td>1</td>\n",
       "      <td>1</td>\n",
       "      <td>250649</td>\n",
       "      <td>14.5000</td>\n",
       "      <td>NaN</td>\n",
       "      <td>S</td>\n",
       "    </tr>\n",
       "    <tr>\n",
       "      <th>469</th>\n",
       "      <td>470</td>\n",
       "      <td>1</td>\n",
       "      <td>3</td>\n",
       "      <td>Baclini, Miss. Helene Barbara</td>\n",
       "      <td>female</td>\n",
       "      <td>0.75</td>\n",
       "      <td>2</td>\n",
       "      <td>1</td>\n",
       "      <td>2666</td>\n",
       "      <td>19.2583</td>\n",
       "      <td>NaN</td>\n",
       "      <td>C</td>\n",
       "    </tr>\n",
       "    <tr>\n",
       "      <th>644</th>\n",
       "      <td>645</td>\n",
       "      <td>1</td>\n",
       "      <td>3</td>\n",
       "      <td>Baclini, Miss. Eugenie</td>\n",
       "      <td>female</td>\n",
       "      <td>0.75</td>\n",
       "      <td>2</td>\n",
       "      <td>1</td>\n",
       "      <td>2666</td>\n",
       "      <td>19.2583</td>\n",
       "      <td>NaN</td>\n",
       "      <td>C</td>\n",
       "    </tr>\n",
       "    <tr>\n",
       "      <th>78</th>\n",
       "      <td>79</td>\n",
       "      <td>1</td>\n",
       "      <td>2</td>\n",
       "      <td>Caldwell, Master. Alden Gates</td>\n",
       "      <td>male</td>\n",
       "      <td>0.83</td>\n",
       "      <td>0</td>\n",
       "      <td>2</td>\n",
       "      <td>248738</td>\n",
       "      <td>29.0000</td>\n",
       "      <td>NaN</td>\n",
       "      <td>S</td>\n",
       "    </tr>\n",
       "    <tr>\n",
       "      <th>...</th>\n",
       "      <td>...</td>\n",
       "      <td>...</td>\n",
       "      <td>...</td>\n",
       "      <td>...</td>\n",
       "      <td>...</td>\n",
       "      <td>...</td>\n",
       "      <td>...</td>\n",
       "      <td>...</td>\n",
       "      <td>...</td>\n",
       "      <td>...</td>\n",
       "      <td>...</td>\n",
       "      <td>...</td>\n",
       "    </tr>\n",
       "    <tr>\n",
       "      <th>740</th>\n",
       "      <td>741</td>\n",
       "      <td>1</td>\n",
       "      <td>1</td>\n",
       "      <td>Hawksford, Mr. Walter James</td>\n",
       "      <td>male</td>\n",
       "      <td>NaN</td>\n",
       "      <td>0</td>\n",
       "      <td>0</td>\n",
       "      <td>16988</td>\n",
       "      <td>30.0000</td>\n",
       "      <td>D45</td>\n",
       "      <td>S</td>\n",
       "    </tr>\n",
       "    <tr>\n",
       "      <th>766</th>\n",
       "      <td>767</td>\n",
       "      <td>0</td>\n",
       "      <td>1</td>\n",
       "      <td>Brewe, Dr. Arthur Jackson</td>\n",
       "      <td>male</td>\n",
       "      <td>NaN</td>\n",
       "      <td>0</td>\n",
       "      <td>0</td>\n",
       "      <td>112379</td>\n",
       "      <td>39.6000</td>\n",
       "      <td>NaN</td>\n",
       "      <td>C</td>\n",
       "    </tr>\n",
       "    <tr>\n",
       "      <th>793</th>\n",
       "      <td>794</td>\n",
       "      <td>0</td>\n",
       "      <td>1</td>\n",
       "      <td>Hoyt, Mr. William Fisher</td>\n",
       "      <td>male</td>\n",
       "      <td>NaN</td>\n",
       "      <td>0</td>\n",
       "      <td>0</td>\n",
       "      <td>PC 17600</td>\n",
       "      <td>30.6958</td>\n",
       "      <td>NaN</td>\n",
       "      <td>C</td>\n",
       "    </tr>\n",
       "    <tr>\n",
       "      <th>815</th>\n",
       "      <td>816</td>\n",
       "      <td>0</td>\n",
       "      <td>1</td>\n",
       "      <td>Fry, Mr. Richard</td>\n",
       "      <td>male</td>\n",
       "      <td>NaN</td>\n",
       "      <td>0</td>\n",
       "      <td>0</td>\n",
       "      <td>112058</td>\n",
       "      <td>0.0000</td>\n",
       "      <td>B102</td>\n",
       "      <td>S</td>\n",
       "    </tr>\n",
       "    <tr>\n",
       "      <th>839</th>\n",
       "      <td>840</td>\n",
       "      <td>1</td>\n",
       "      <td>1</td>\n",
       "      <td>Marechal, Mr. Pierre</td>\n",
       "      <td>male</td>\n",
       "      <td>NaN</td>\n",
       "      <td>0</td>\n",
       "      <td>0</td>\n",
       "      <td>11774</td>\n",
       "      <td>29.7000</td>\n",
       "      <td>C47</td>\n",
       "      <td>C</td>\n",
       "    </tr>\n",
       "  </tbody>\n",
       "</table>\n",
       "<p>891 rows × 12 columns</p>\n",
       "</div>"
      ],
      "text/plain": [
       "     PassengerId  Survived  Pclass                             Name     Sex  \\\n",
       "803          804         1       3  Thomas, Master. Assad Alexander    male   \n",
       "755          756         1       2        Hamalainen, Master. Viljo    male   \n",
       "469          470         1       3    Baclini, Miss. Helene Barbara  female   \n",
       "644          645         1       3           Baclini, Miss. Eugenie  female   \n",
       "78            79         1       2    Caldwell, Master. Alden Gates    male   \n",
       "..           ...       ...     ...                              ...     ...   \n",
       "740          741         1       1      Hawksford, Mr. Walter James    male   \n",
       "766          767         0       1        Brewe, Dr. Arthur Jackson    male   \n",
       "793          794         0       1         Hoyt, Mr. William Fisher    male   \n",
       "815          816         0       1                 Fry, Mr. Richard    male   \n",
       "839          840         1       1             Marechal, Mr. Pierre    male   \n",
       "\n",
       "      Age  SibSp  Parch    Ticket     Fare Cabin Embarked  \n",
       "803  0.42      0      1      2625   8.5167   NaN        C  \n",
       "755  0.67      1      1    250649  14.5000   NaN        S  \n",
       "469  0.75      2      1      2666  19.2583   NaN        C  \n",
       "644  0.75      2      1      2666  19.2583   NaN        C  \n",
       "78   0.83      0      2    248738  29.0000   NaN        S  \n",
       "..    ...    ...    ...       ...      ...   ...      ...  \n",
       "740   NaN      0      0     16988  30.0000   D45        S  \n",
       "766   NaN      0      0    112379  39.6000   NaN        C  \n",
       "793   NaN      0      0  PC 17600  30.6958   NaN        C  \n",
       "815   NaN      0      0    112058   0.0000  B102        S  \n",
       "839   NaN      0      0     11774  29.7000   C47        C  \n",
       "\n",
       "[891 rows x 12 columns]"
      ]
     },
     "execution_count": 6,
     "metadata": {},
     "output_type": "execute_result"
    }
   ],
   "source": [
    "## Sorting Data\n",
    "\n",
    "# sort based on column\n",
    "df.sort_values('Age')\n",
    "\n",
    "df.sort_values('Age', ascending = False)\n",
    "\n",
    "#two or more col\n",
    "df.sort_values(['Age','Pclass', 'Sex'], ascending = (True,False,True))\n"
   ]
  },
  {
   "cell_type": "markdown",
   "id": "456542ab",
   "metadata": {},
   "source": [
    "## grouping"
   ]
  },
  {
   "cell_type": "code",
   "execution_count": 7,
   "id": "b0cfcf30",
   "metadata": {},
   "outputs": [
    {
     "data": {
      "text/html": [
       "<div>\n",
       "<style scoped>\n",
       "    .dataframe tbody tr th:only-of-type {\n",
       "        vertical-align: middle;\n",
       "    }\n",
       "\n",
       "    .dataframe tbody tr th {\n",
       "        vertical-align: top;\n",
       "    }\n",
       "\n",
       "    .dataframe thead th {\n",
       "        text-align: right;\n",
       "    }\n",
       "</style>\n",
       "<table border=\"1\" class=\"dataframe\">\n",
       "  <thead>\n",
       "    <tr style=\"text-align: right;\">\n",
       "      <th></th>\n",
       "      <th>PassengerId</th>\n",
       "      <th>Survived</th>\n",
       "      <th>Pclass</th>\n",
       "      <th>Name</th>\n",
       "      <th>Sex</th>\n",
       "      <th>Age</th>\n",
       "      <th>SibSp</th>\n",
       "      <th>Parch</th>\n",
       "      <th>Ticket</th>\n",
       "      <th>Fare</th>\n",
       "      <th>Cabin</th>\n",
       "      <th>Embarked</th>\n",
       "    </tr>\n",
       "  </thead>\n",
       "  <tbody>\n",
       "    <tr>\n",
       "      <th>1</th>\n",
       "      <td>2</td>\n",
       "      <td>1</td>\n",
       "      <td>1</td>\n",
       "      <td>Cumings, Mrs. John Bradley (Florence Briggs Th...</td>\n",
       "      <td>female</td>\n",
       "      <td>38.0</td>\n",
       "      <td>1</td>\n",
       "      <td>0</td>\n",
       "      <td>PC 17599</td>\n",
       "      <td>71.2833</td>\n",
       "      <td>C85</td>\n",
       "      <td>C</td>\n",
       "    </tr>\n",
       "    <tr>\n",
       "      <th>9</th>\n",
       "      <td>10</td>\n",
       "      <td>1</td>\n",
       "      <td>2</td>\n",
       "      <td>Nasser, Mrs. Nicholas (Adele Achem)</td>\n",
       "      <td>female</td>\n",
       "      <td>14.0</td>\n",
       "      <td>1</td>\n",
       "      <td>0</td>\n",
       "      <td>237736</td>\n",
       "      <td>30.0708</td>\n",
       "      <td>NaN</td>\n",
       "      <td>C</td>\n",
       "    </tr>\n",
       "    <tr>\n",
       "      <th>19</th>\n",
       "      <td>20</td>\n",
       "      <td>1</td>\n",
       "      <td>3</td>\n",
       "      <td>Masselmani, Mrs. Fatima</td>\n",
       "      <td>female</td>\n",
       "      <td>NaN</td>\n",
       "      <td>0</td>\n",
       "      <td>0</td>\n",
       "      <td>2649</td>\n",
       "      <td>7.2250</td>\n",
       "      <td>NaN</td>\n",
       "      <td>C</td>\n",
       "    </tr>\n",
       "    <tr>\n",
       "      <th>26</th>\n",
       "      <td>27</td>\n",
       "      <td>0</td>\n",
       "      <td>3</td>\n",
       "      <td>Emir, Mr. Farred Chehab</td>\n",
       "      <td>male</td>\n",
       "      <td>NaN</td>\n",
       "      <td>0</td>\n",
       "      <td>0</td>\n",
       "      <td>2631</td>\n",
       "      <td>7.2250</td>\n",
       "      <td>NaN</td>\n",
       "      <td>C</td>\n",
       "    </tr>\n",
       "    <tr>\n",
       "      <th>30</th>\n",
       "      <td>31</td>\n",
       "      <td>0</td>\n",
       "      <td>1</td>\n",
       "      <td>Uruchurtu, Don. Manuel E</td>\n",
       "      <td>male</td>\n",
       "      <td>40.0</td>\n",
       "      <td>0</td>\n",
       "      <td>0</td>\n",
       "      <td>PC 17601</td>\n",
       "      <td>27.7208</td>\n",
       "      <td>NaN</td>\n",
       "      <td>C</td>\n",
       "    </tr>\n",
       "    <tr>\n",
       "      <th>...</th>\n",
       "      <td>...</td>\n",
       "      <td>...</td>\n",
       "      <td>...</td>\n",
       "      <td>...</td>\n",
       "      <td>...</td>\n",
       "      <td>...</td>\n",
       "      <td>...</td>\n",
       "      <td>...</td>\n",
       "      <td>...</td>\n",
       "      <td>...</td>\n",
       "      <td>...</td>\n",
       "      <td>...</td>\n",
       "    </tr>\n",
       "    <tr>\n",
       "      <th>866</th>\n",
       "      <td>867</td>\n",
       "      <td>1</td>\n",
       "      <td>2</td>\n",
       "      <td>Duran y More, Miss. Asuncion</td>\n",
       "      <td>female</td>\n",
       "      <td>27.0</td>\n",
       "      <td>1</td>\n",
       "      <td>0</td>\n",
       "      <td>SC/PARIS 2149</td>\n",
       "      <td>13.8583</td>\n",
       "      <td>NaN</td>\n",
       "      <td>C</td>\n",
       "    </tr>\n",
       "    <tr>\n",
       "      <th>874</th>\n",
       "      <td>875</td>\n",
       "      <td>1</td>\n",
       "      <td>2</td>\n",
       "      <td>Abelson, Mrs. Samuel (Hannah Wizosky)</td>\n",
       "      <td>female</td>\n",
       "      <td>28.0</td>\n",
       "      <td>1</td>\n",
       "      <td>0</td>\n",
       "      <td>P/PP 3381</td>\n",
       "      <td>24.0000</td>\n",
       "      <td>NaN</td>\n",
       "      <td>C</td>\n",
       "    </tr>\n",
       "    <tr>\n",
       "      <th>875</th>\n",
       "      <td>876</td>\n",
       "      <td>1</td>\n",
       "      <td>3</td>\n",
       "      <td>Najib, Miss. Adele Kiamie \"Jane\"</td>\n",
       "      <td>female</td>\n",
       "      <td>15.0</td>\n",
       "      <td>0</td>\n",
       "      <td>0</td>\n",
       "      <td>2667</td>\n",
       "      <td>7.2250</td>\n",
       "      <td>NaN</td>\n",
       "      <td>C</td>\n",
       "    </tr>\n",
       "    <tr>\n",
       "      <th>879</th>\n",
       "      <td>880</td>\n",
       "      <td>1</td>\n",
       "      <td>1</td>\n",
       "      <td>Potter, Mrs. Thomas Jr (Lily Alexenia Wilson)</td>\n",
       "      <td>female</td>\n",
       "      <td>56.0</td>\n",
       "      <td>0</td>\n",
       "      <td>1</td>\n",
       "      <td>11767</td>\n",
       "      <td>83.1583</td>\n",
       "      <td>C50</td>\n",
       "      <td>C</td>\n",
       "    </tr>\n",
       "    <tr>\n",
       "      <th>889</th>\n",
       "      <td>890</td>\n",
       "      <td>1</td>\n",
       "      <td>1</td>\n",
       "      <td>Behr, Mr. Karl Howell</td>\n",
       "      <td>male</td>\n",
       "      <td>26.0</td>\n",
       "      <td>0</td>\n",
       "      <td>0</td>\n",
       "      <td>111369</td>\n",
       "      <td>30.0000</td>\n",
       "      <td>C148</td>\n",
       "      <td>C</td>\n",
       "    </tr>\n",
       "  </tbody>\n",
       "</table>\n",
       "<p>168 rows × 12 columns</p>\n",
       "</div>"
      ],
      "text/plain": [
       "     PassengerId  Survived  Pclass  \\\n",
       "1              2         1       1   \n",
       "9             10         1       2   \n",
       "19            20         1       3   \n",
       "26            27         0       3   \n",
       "30            31         0       1   \n",
       "..           ...       ...     ...   \n",
       "866          867         1       2   \n",
       "874          875         1       2   \n",
       "875          876         1       3   \n",
       "879          880         1       1   \n",
       "889          890         1       1   \n",
       "\n",
       "                                                  Name     Sex   Age  SibSp  \\\n",
       "1    Cumings, Mrs. John Bradley (Florence Briggs Th...  female  38.0      1   \n",
       "9                  Nasser, Mrs. Nicholas (Adele Achem)  female  14.0      1   \n",
       "19                             Masselmani, Mrs. Fatima  female   NaN      0   \n",
       "26                             Emir, Mr. Farred Chehab    male   NaN      0   \n",
       "30                            Uruchurtu, Don. Manuel E    male  40.0      0   \n",
       "..                                                 ...     ...   ...    ...   \n",
       "866                       Duran y More, Miss. Asuncion  female  27.0      1   \n",
       "874              Abelson, Mrs. Samuel (Hannah Wizosky)  female  28.0      1   \n",
       "875                   Najib, Miss. Adele Kiamie \"Jane\"  female  15.0      0   \n",
       "879      Potter, Mrs. Thomas Jr (Lily Alexenia Wilson)  female  56.0      0   \n",
       "889                              Behr, Mr. Karl Howell    male  26.0      0   \n",
       "\n",
       "     Parch         Ticket     Fare Cabin Embarked  \n",
       "1        0       PC 17599  71.2833   C85        C  \n",
       "9        0         237736  30.0708   NaN        C  \n",
       "19       0           2649   7.2250   NaN        C  \n",
       "26       0           2631   7.2250   NaN        C  \n",
       "30       0       PC 17601  27.7208   NaN        C  \n",
       "..     ...            ...      ...   ...      ...  \n",
       "866      0  SC/PARIS 2149  13.8583   NaN        C  \n",
       "874      0      P/PP 3381  24.0000   NaN        C  \n",
       "875      0           2667   7.2250   NaN        C  \n",
       "879      1          11767  83.1583   C50        C  \n",
       "889      0         111369  30.0000  C148        C  \n",
       "\n",
       "[168 rows x 12 columns]"
      ]
     },
     "execution_count": 7,
     "metadata": {},
     "output_type": "execute_result"
    }
   ],
   "source": [
    "## group by\n",
    "\n",
    "# Kelompokan berdasarkan embark_town\n",
    "df_grouped = df.groupby(['Embarked']).mean()\n",
    "# Aggregate functions: count(), mean(), sum(), min(), max(), median(), quantile(), var(), std()\n",
    "\n",
    "# Melihat value pada group embark_town\n",
    "gb = df.groupby(['Embarked'])\n",
    "gb.get_group('C')\n"
   ]
  },
  {
   "cell_type": "markdown",
   "id": "ece97112",
   "metadata": {},
   "source": [
    "## summarize"
   ]
  },
  {
   "cell_type": "code",
   "execution_count": 8,
   "id": "93f24f11",
   "metadata": {},
   "outputs": [
    {
     "data": {
      "text/plain": [
       "33.58319467554077"
      ]
     },
     "execution_count": 8,
     "metadata": {},
     "output_type": "execute_result"
    }
   ],
   "source": [
    "## sumarise\n",
    "\n",
    "# count by values\n",
    "df[\"Sex\"].value_counts()\n",
    "\n",
    "\n",
    "## describe\n",
    "df.describe()\n",
    "\n",
    "\n",
    "## mean, std , etc\n",
    "np.mean(df.Age)\n",
    "np.std(df.Age)\n",
    "\n",
    "## or \n",
    "df.Age.mean()\n",
    "\n",
    "## or\n",
    "df['Age'].mean()\n",
    "\n",
    "##### use apply (might skip it, to acomodate a time)\n",
    "df.loc[:,['Age','Fare']].apply(np.sqrt)\n",
    "\n",
    "\n",
    "## test : find mean of adult passanger (18 over)\n",
    "df.query('Age >= 18')['Age'].mean()\n",
    "\n",
    "# or\n",
    "df.loc[df.Age >=18, 'Age'].mean()"
   ]
  },
  {
   "cell_type": "markdown",
   "id": "a650bd06",
   "metadata": {},
   "source": [
    "## other useful function"
   ]
  },
  {
   "cell_type": "code",
   "execution_count": 9,
   "id": "df63935d",
   "metadata": {},
   "outputs": [],
   "source": [
    "## other useful function, depend on time I might skip it\n",
    "# check missing value\n",
    "df.isna().sum()\n",
    "# check duplicate\n",
    "df[df.duplicated() == True]\n",
    "\n",
    "## some preprocessing function in pandas; will be used in cleaning/preprocess so I might skip it, but \n",
    "## it is nice to share it here\n",
    "\n",
    "# fillna\n",
    "df['Age'].fillna(np.mean(df.Age))\n",
    "#dropna\n",
    "dfclean= df.dropna"
   ]
  },
  {
   "cell_type": "markdown",
   "id": "2e6dc10c",
   "metadata": {},
   "source": [
    "## graph compability"
   ]
  },
  {
   "cell_type": "code",
   "execution_count": 12,
   "id": "d571279f",
   "metadata": {},
   "outputs": [
    {
     "data": {
      "text/plain": [
       "<bound method DataFrame.dropna of      PassengerId  Survived  Pclass  \\\n",
       "0              1         0       3   \n",
       "1              2         1       1   \n",
       "2              3         1       3   \n",
       "3              4         1       1   \n",
       "4              5         0       3   \n",
       "..           ...       ...     ...   \n",
       "886          887         0       2   \n",
       "887          888         1       1   \n",
       "888          889         0       3   \n",
       "889          890         1       1   \n",
       "890          891         0       3   \n",
       "\n",
       "                                                  Name     Sex   Age  SibSp  \\\n",
       "0                              Braund, Mr. Owen Harris    male  22.0      1   \n",
       "1    Cumings, Mrs. John Bradley (Florence Briggs Th...  female  38.0      1   \n",
       "2                               Heikkinen, Miss. Laina  female  26.0      0   \n",
       "3         Futrelle, Mrs. Jacques Heath (Lily May Peel)  female  35.0      1   \n",
       "4                             Allen, Mr. William Henry    male  35.0      0   \n",
       "..                                                 ...     ...   ...    ...   \n",
       "886                              Montvila, Rev. Juozas    male  27.0      0   \n",
       "887                       Graham, Miss. Margaret Edith  female  19.0      0   \n",
       "888           Johnston, Miss. Catherine Helen \"Carrie\"  female   NaN      1   \n",
       "889                              Behr, Mr. Karl Howell    male  26.0      0   \n",
       "890                                Dooley, Mr. Patrick    male  32.0      0   \n",
       "\n",
       "     Parch            Ticket     Fare Cabin Embarked  \n",
       "0        0         A/5 21171   7.2500   NaN        S  \n",
       "1        0          PC 17599  71.2833   C85        C  \n",
       "2        0  STON/O2. 3101282   7.9250   NaN        S  \n",
       "3        0            113803  53.1000  C123        S  \n",
       "4        0            373450   8.0500   NaN        S  \n",
       "..     ...               ...      ...   ...      ...  \n",
       "886      0            211536  13.0000   NaN        S  \n",
       "887      0            112053  30.0000   B42        S  \n",
       "888      2        W./C. 6607  23.4500   NaN        S  \n",
       "889      0            111369  30.0000  C148        C  \n",
       "890      0            370376   7.7500   NaN        Q  \n",
       "\n",
       "[891 rows x 12 columns]>"
      ]
     },
     "execution_count": 12,
     "metadata": {},
     "output_type": "execute_result"
    }
   ],
   "source": [
    "## graph compability pandas\n",
    "\n",
    "##histogram\n",
    "df.Age.plot.hist()\n",
    "\n",
    "## boxplot\n",
    "df['Age'].plot.box()\n",
    "\n",
    "## bit more ...\n",
    "## boxplot\n",
    "pd.DataFrame(df[['Sex','Age']]).boxplot(by = 'Sex')\n",
    "\n",
    "\n",
    "## scatter\n",
    "df.plot.scatter('Age', 'Fare')"
   ]
  },
  {
   "cell_type": "code",
   "execution_count": null,
   "id": "604e2de2",
   "metadata": {},
   "outputs": [],
   "source": []
  },
  {
   "cell_type": "markdown",
   "id": "74d08c93",
   "metadata": {},
   "source": [
    "## save output"
   ]
  },
  {
   "cell_type": "code",
   "execution_count": null,
   "id": "aac248ab",
   "metadata": {},
   "outputs": [],
   "source": [
    "# Saving/Exporting Data\n",
    "\n",
    "df.to_csv('df.csv')"
   ]
  },
  {
   "cell_type": "markdown",
   "id": "6bce31fc",
   "metadata": {},
   "source": [
    "# EDA dengan dataset Titanic"
   ]
  },
  {
   "attachments": {
    "Titanic%20Movie.jpg": {
     "image/jpeg": "[encoded data removed]"
    }
   },
   "cell_type": "markdown",
   "id": "e110f705",
   "metadata": {},
   "source": [
    "![Titanic%20Movie.jpg](attachment:Titanic%20Movie.jpg)"
   ]
  },
  {
   "attachments": {
    "CRISP-DM.png": {
     "image/png": "[encoded data removed]"
    }
   },
   "cell_type": "markdown",
   "id": "41ba92aa",
   "metadata": {},
   "source": [
    "![CRISP-DM.png](attachment:CRISP-DM.png)"
   ]
  },
  {
   "cell_type": "code",
   "execution_count": null,
   "id": "54ff659b",
   "metadata": {},
   "outputs": [],
   "source": [
    "import pandas as pd"
   ]
  },
  {
   "cell_type": "markdown",
   "id": "9b4e1a2f",
   "metadata": {},
   "source": [
    "## loading data"
   ]
  },
  {
   "cell_type": "code",
   "execution_count": null,
   "id": "97fce7c2",
   "metadata": {},
   "outputs": [],
   "source": [
    "data = pd.read_csv('titanic.csv')"
   ]
  },
  {
   "cell_type": "markdown",
   "id": "51b8ceab",
   "metadata": {},
   "source": [
    "## melihat data secara sekilas"
   ]
  },
  {
   "cell_type": "code",
   "execution_count": null,
   "id": "ab807a47",
   "metadata": {},
   "outputs": [],
   "source": [
    "data.head()\n",
    "#data.tail()\n",
    "#data.sample()\n"
   ]
  },
  {
   "cell_type": "markdown",
   "id": "88329485",
   "metadata": {},
   "source": [
    "## mencari informasi data"
   ]
  },
  {
   "cell_type": "code",
   "execution_count": null,
   "id": "71b3302e",
   "metadata": {},
   "outputs": [],
   "source": [
    "data.shape\n",
    "data.size\n",
    "data.columns\n",
    "data.index\n",
    "data.dtypes"
   ]
  },
  {
   "cell_type": "markdown",
   "id": "5f471ede",
   "metadata": {},
   "source": [
    "-dataset mempunyai 891 row dan 12 kolom"
   ]
  },
  {
   "cell_type": "markdown",
   "id": "f76ef0d0",
   "metadata": {},
   "source": [
    "## Cek lagi variabel dependent"
   ]
  },
  {
   "cell_type": "code",
   "execution_count": null,
   "id": "f2f79b73",
   "metadata": {},
   "outputs": [],
   "source": [
    "data.groupby(['Survived']).agg({'PassengerId' : 'count'}).reset_index()"
   ]
  },
  {
   "cell_type": "markdown",
   "id": "367dfa33",
   "metadata": {},
   "source": [
    "## Cek Missing Value, Data Duplicated"
   ]
  },
  {
   "cell_type": "code",
   "execution_count": null,
   "id": "5580f6e2",
   "metadata": {},
   "outputs": [],
   "source": [
    "data.isnull().sum() #atau data.isna().sum()\n",
    "\n",
    "#\n",
    "data.isnull().sum()*100/len(data)\n",
    "\n",
    "#data.duplicated().sum()"
   ]
  },
  {
   "cell_type": "markdown",
   "id": "f8bb88f3",
   "metadata": {},
   "source": [
    "data pada kolom 'Age' dan 'Cabin' membutuhkan perhartian lebih di fase berikutnya"
   ]
  },
  {
   "attachments": {
    "WhatsApp%20Image%202021-07-24%20at%2011.47.35.jpeg": {
     "image/jpeg": "[encoded data removed]"
    }
   },
   "cell_type": "markdown",
   "id": "dbdfbe20",
   "metadata": {},
   "source": [
    "![WhatsApp%20Image%202021-07-24%20at%2011.47.35.jpeg](attachment:WhatsApp%20Image%202021-07-24%20at%2011.47.35.jpeg)"
   ]
  },
  {
   "cell_type": "markdown",
   "id": "584784da",
   "metadata": {},
   "source": [
    "\n",
    "#### Hasil Analisis Univariat\n",
    "\n",
    "- variabel target adalah 'Survived'\n",
    "- Tipe variabel\n",
    "    - Categorical: 'Sex', 'Embarked'\n",
    "    - Ordinal: 'PClass'\n",
    "    - Continuous: 'Age', 'Fare'\n",
    "    - Discrete: 'SibSp', 'Parch'\n",
    "    \n",
    "- Bagian tengah setiap nama adalah gelar orang, dapat dipertimbangkan untuk digunakan sebagai variabel\n",
    "- 'Age' memiliki 20% missing value\n",
    "- 'Cabin' memiliki 77%, terlalu banyak\n",
    "- 'Ticket' memiliki terlalu banyak nilai unik\n",
    "- 'PessengerId' adalah identitas, bersifat unik"
   ]
  },
  {
   "cell_type": "markdown",
   "id": "a28150d8",
   "metadata": {},
   "source": [
    "## statistik"
   ]
  },
  {
   "cell_type": "code",
   "execution_count": null,
   "id": "cf2f8f6c",
   "metadata": {},
   "outputs": [],
   "source": [
    "import numpy as np\n",
    "## count by values\n",
    "###data[\"Survived\"].value_counts()\n",
    "\n",
    "## describe\n",
    "data.describe()\n",
    "\n",
    "## mean, std , etc\n",
    "#np.mean(data.Age)\n",
    "#np.std(data.Age)"
   ]
  },
  {
   "cell_type": "code",
   "execution_count": null,
   "id": "6a82980b",
   "metadata": {},
   "outputs": [],
   "source": [
    "## correlation\n",
    "data.corr()"
   ]
  },
  {
   "cell_type": "markdown",
   "id": "664e5990",
   "metadata": {},
   "source": [
    "## Visualisasi"
   ]
  },
  {
   "cell_type": "code",
   "execution_count": null,
   "id": "561f42c6",
   "metadata": {},
   "outputs": [],
   "source": [
    "sns.heatmap(data.corr(),annot=True,cmap='RdYlGn',linewidths=0.5) #data.corr()-->correlation matrix\n",
    "fig=plt.gcf()\n",
    "fig.set_size_inches(8,5)\n",
    "plt.show()"
   ]
  },
  {
   "cell_type": "markdown",
   "id": "3e4284a8",
   "metadata": {},
   "source": [
    "-terdapat 2 data yang kemungkinan mempunyai autokorelasi"
   ]
  },
  {
   "cell_type": "markdown",
   "id": "32c95744",
   "metadata": {},
   "source": [
    "#### Eksploasi Variabel"
   ]
  },
  {
   "cell_type": "code",
   "execution_count": null,
   "id": "385d9b7d",
   "metadata": {},
   "outputs": [],
   "source": [
    "import numpy as np \n",
    "import matplotlib.pyplot as plt\n",
    "import seaborn as sns\n",
    "\n",
    "import warnings\n",
    "warnings.filterwarnings('ignore')\n",
    "%matplotlib inline"
   ]
  },
  {
   "cell_type": "markdown",
   "id": "977b46ee",
   "metadata": {},
   "source": [
    "### visualisasi data"
   ]
  },
  {
   "cell_type": "code",
   "execution_count": null,
   "id": "ff5147a5",
   "metadata": {},
   "outputs": [],
   "source": [
    "f,ax=plt.subplots(1,4,figsize=(15,4))\n",
    "\n",
    "# subplot 1\n",
    "data['Survived'].value_counts().sort_index().plot.bar(color=['blue','green'],ax=ax[0])\n",
    "ax[0].set_title('Number Of Passengers By Survived')\n",
    "ax[0].set_ylabel('Count')\n",
    "\n",
    "\n",
    "# subplot 2 \n",
    "data['Sex'].value_counts().sort_index().plot.bar(color=['blue','green'],ax=ax[1])\n",
    "ax[1].set_title('Number Of Passengers By Sex')\n",
    "ax[1].set_ylabel('Count')\n",
    "\n",
    "# subplot 3 \n",
    "data['Pclass'].value_counts().sort_index().plot.bar(color=['blue','green','red'],ax=ax[2])\n",
    "ax[2].set_title('Number Of Passengers By Pclass')\n",
    "ax[2].set_ylabel('Count')\n",
    "\n",
    "# subplot 4 \n",
    "data['Embarked'].value_counts().sort_index().plot.bar(color=['blue','green','red','yellow'],ax=ax[3])\n",
    "ax[3].set_title('Number Of Passengers By Embarked')\n",
    "ax[3].set_ylabel('Count')\n",
    "\n",
    "# show\n",
    "plt.show()"
   ]
  },
  {
   "cell_type": "code",
   "execution_count": null,
   "id": "4b7e7aa0",
   "metadata": {},
   "outputs": [],
   "source": [
    "plt.subplot(2,2,1)\n",
    "data.Age.plot.hist()\n",
    "plt.title('Age from the Titanic')\n",
    "\n",
    "plt.subplot(2,2,2)\n",
    "data.Fare.plot.hist()\n",
    "plt.title('Fare from the Titanic')\n"
   ]
  },
  {
   "cell_type": "code",
   "execution_count": null,
   "id": "9d803168",
   "metadata": {},
   "outputs": [],
   "source": [
    "plt.subplot(2,2,1)\n",
    "data['Age'].plot.box()\n",
    "plt.title('Age from the Titanic')\n",
    "\n",
    "plt.subplot(2,2,2)\n",
    "data['Fare'].plot.box()\n",
    "plt.title('Fare from the Titanic')"
   ]
  },
  {
   "cell_type": "code",
   "execution_count": null,
   "id": "8cb1dcbf",
   "metadata": {},
   "outputs": [],
   "source": [
    "data.plot.scatter('Age', 'Fare')"
   ]
  },
  {
   "cell_type": "markdown",
   "id": "4b8c04b3",
   "metadata": {},
   "source": [
    "#### Kesimpulan Sementara\n",
    "\n",
    "- jumlah penumpang survived lebih banyak daripada unsurvived\n",
    "- jumlah penumpang male lebih banyak daripada penumpang female\n",
    "- jumlah penumpang kelas 3 lebih banyak daripada kelas lainnya\n",
    "- jumlah penumpang dengan Embarked Southampton lebih banyak daripada embarked lainnya\n",
    "- penumpang paling banyak berkisar pada usia 20 - 40 tahun"
   ]
  },
  {
   "cell_type": "markdown",
   "id": "87be7e99",
   "metadata": {},
   "source": [
    "# Analisis Bivariat"
   ]
  },
  {
   "cell_type": "code",
   "execution_count": null,
   "id": "030ba29c",
   "metadata": {},
   "outputs": [],
   "source": [
    "data_ct_sex = pd.crosstab(data['Sex'], data['Survived'],margins=True)\n",
    "data_ct_sex.style.background_gradient(cmap='summer_r')"
   ]
  },
  {
   "cell_type": "code",
   "execution_count": null,
   "id": "9ab560cd",
   "metadata": {},
   "outputs": [],
   "source": [
    "data_ct_pclass = pd.crosstab(data['Pclass'], data['Survived'],margins=True)\n",
    "data_ct_pclass.style.background_gradient(cmap='summer_r')"
   ]
  },
  {
   "cell_type": "code",
   "execution_count": null,
   "id": "9f34dbf9",
   "metadata": {},
   "outputs": [],
   "source": [
    "data_ct_embarked = pd.crosstab(data['Embarked'], data['Survived'],margins=True)\n",
    "data_ct_embarked.style.background_gradient(cmap='summer_r')"
   ]
  },
  {
   "cell_type": "code",
   "execution_count": null,
   "id": "f879061f",
   "metadata": {},
   "outputs": [],
   "source": [
    "from scipy.stats import chi2_contingency\n",
    "  \n",
    "def chi_test(data):    \n",
    "    # defining the table\n",
    "    stat, p, dof, expected = chi2_contingency(data)\n",
    "\n",
    "    # interpret p-value\n",
    "    alpha = 0.05\n",
    "    print(\"p value is \" + str(p))\n",
    "    if p <= alpha:\n",
    "        print('Dependent (reject H0)')\n",
    "    else:\n",
    "        print('Independent (H0 holds true)')\n",
    "\n",
    "chi_test(data_ct_sex)\n",
    "chi_test(data_ct_pclass)\n",
    "chi_test(data_ct_embarked)"
   ]
  },
  {
   "cell_type": "code",
   "execution_count": null,
   "id": "2117a1fa",
   "metadata": {},
   "outputs": [],
   "source": [
    "f,ax=plt.subplots(1,4,figsize=(18,5))\n",
    "\n",
    "# subplot 1\n",
    "data['Sex'].value_counts().sort_index().plot.bar(color=['blue','green'],ax=ax[0])\n",
    "ax[0].set_title('Number Of Passengers By Sex')\n",
    "ax[0].set_ylabel('Count')\n",
    "\n",
    "\n",
    "# subplot 2 \n",
    "sns.countplot('Sex',hue='Survived',data=data, ax=ax[1])\n",
    "ax[1].set_title('Sex: Survived vs Dead')\n",
    "\n",
    "# subplot 3\n",
    "data['Pclass'].value_counts().sort_index().plot.bar(color=['blue','green','red'],ax=ax[2])\n",
    "ax[2].set_title('Number Of Passengers By Pclass')\n",
    "ax[2].set_ylabel('Count')\n",
    "\n",
    "# subplot 4 \n",
    "sns.countplot('Pclass',hue='Survived',data=data, ax=ax[3])\n",
    "ax[3].set_title('Pclass: Survived vs Dead')\n",
    "\n",
    "\n",
    "# show\n",
    "plt.show()"
   ]
  },
  {
   "cell_type": "code",
   "execution_count": null,
   "id": "d65effe6",
   "metadata": {},
   "outputs": [],
   "source": [
    "f,ax=plt.subplots(1,2,figsize=(18,5))\n",
    "\n",
    "# subplot 1\n",
    "data['Embarked'].value_counts().sort_index().plot.bar(color=['blue','green','red'],ax=ax[0])\n",
    "ax[0].set_title('Number Of Passengers By Embarked')\n",
    "ax[0].set_ylabel('Count')\n",
    "\n",
    "# subplot 2 \n",
    "sns.countplot('Embarked',hue='Survived',data=data, ax=ax[1])\n",
    "ax[1].set_title('Embarked: Survived vs Dead')\n",
    "\n",
    "plt.show()"
   ]
  },
  {
   "cell_type": "markdown",
   "id": "f28b1279",
   "metadata": {},
   "source": [
    "kesimpulan\n",
    "- Jumlah pria di kapal jauh lebih banyak daripada jumlah wanita. Namun jumlah wanita yang diselamatkan lebih banyak jumlah pria yang diselamatkan.\n",
    "- Jenis kelamin mungkin menjadi variabel yang menentukan keselamatan\n",
    "- 'Sex' kemungkinan menjadi fitur yang **penting** untuk pemodelan\n",
    "\n",
    "- Penumpang Pclass 1 mempunyai angka keselamatan yang tinggi. Meski jumlah Penumpang di Pclass 3 jauh lebih tinggi, namun angka keselamatan dari mereka rendah.\n",
    "- Kelas kabin mungkin menjadi variabel yang menentukan keselamatan \n",
    "- 'Pclass' kemungkinan menjadi fitur yang **penting** untuk pemodelan\n",
    "\n",
    "- Pelabuhan keberangkatan tidak menunjukkan pola yang menjadi penentu keselamatan\n",
    "- 'Embarked' kemungkinan menjadi fitur yang **tidak terlalu penting** untuk pemodelan"
   ]
  },
  {
   "cell_type": "code",
   "execution_count": null,
   "id": "e9eb2ec7",
   "metadata": {},
   "outputs": [],
   "source": []
  }
 ],
 "metadata": {
  "kernelspec": {
   "display_name": "Python 3",
   "language": "python",
   "name": "python3"
  },
  "language_info": {
   "codemirror_mode": {
    "name": "ipython",
    "version": 3
   },
   "file_extension": ".py",
   "mimetype": "text/x-python",
   "name": "python",
   "nbconvert_exporter": "python",
   "pygments_lexer": "ipython3",
   "version": "3.9.2"
  }
 },
 "nbformat": 4,
 "nbformat_minor": 5
}
